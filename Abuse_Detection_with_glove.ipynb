{
 "cells": [
  {
   "cell_type": "markdown",
   "metadata": {},
   "source": [
    "### Imports"
   ]
  },
  {
   "cell_type": "code",
   "execution_count": 1,
   "metadata": {
    "collapsed": true
   },
   "outputs": [],
   "source": [
    "import pandas as pd\n",
    "import nltk, re, string\n",
    "import numpy as np\n",
    "\n",
    "from sklearn.feature_extraction.text import TfidfVectorizer\n",
    "from sklearn.feature_extraction.text import TfidfTransformer\n",
    "from sklearn.feature_extraction.text import CountVectorizer\n",
    "from sklearn.feature_selection import SelectKBest, chi2\n",
    "from sklearn import svm\n",
    "from nltk.corpus import stopwords\n",
    "\n",
    "from sklearn import linear_model\n",
    "from sklearn.naive_bayes import MultinomialNB\n",
    "from sklearn.neural_network import MLPClassifier\n",
    "\n",
    "from sklearn.metrics import confusion_matrix\n",
    "import sklearn.metrics as metrics\n",
    "import itertools\n",
    "%matplotlib inline\n",
    "import matplotlib.pyplot as plt\n",
    "from sklearn.ensemble import VotingClassifier\n",
    "\n",
    "import glove #Installing glove on mac seemed non-trivial. Running it on Linux,pickling results for further use\n",
    "import pickle "
   ]
  },
  {
   "cell_type": "markdown",
   "metadata": {},
   "source": [
    "### Preprocess Data"
   ]
  },
  {
   "cell_type": "markdown",
   "metadata": {},
   "source": [
    "Read the csv file and make a dataframe.\n",
    "- For training: Randomize and Divide it into 80:20 partitions"
   ]
  },
  {
   "cell_type": "code",
   "execution_count": 2,
   "metadata": {
    "collapsed": true
   },
   "outputs": [],
   "source": [
    "def load_Dataset(run=\"train\"):\n",
    "    df = pd.read_csv(\"train.csv\")\n",
    "    df = df[df[\"Comment\"].notnull()]\n",
    "    df.apply(np.random.permutation)\n",
    "    if run==\"train\":\n",
    "        df_train = df[:round(0.8*len(df))]\n",
    "        df_test = df[round(0.8*len(df)):]\n",
    "    elif run==\"test\":\n",
    "        df_train = df\n",
    "        df_test = pd.read_csv(\"test_with_solutions.csv\")\n",
    "#         df_test = pd.read_csv(\"impermium_verification_labels.csv\")\n",
    "    return df_train, df_test"
   ]
  },
  {
   "cell_type": "markdown",
   "metadata": {},
   "source": [
    "### Tokenization"
   ]
  },
  {
   "cell_type": "markdown",
   "metadata": {},
   "source": [
    "This function takes a text and does the following to return the tokens:\n",
    "* Use nltk's TweetTokenizer to get tokens\n",
    "* Use wordNetLemmatizer for lemmatization\n",
    "* Use porterStemmer to stem the resulting tokens"
   ]
  },
  {
   "cell_type": "code",
   "execution_count": 3,
   "metadata": {
    "collapsed": true
   },
   "outputs": [],
   "source": [
    "def build_tokens(text):\n",
    "    tweetTokenizer = nltk.tokenize.TweetTokenizer(strip_handles=True, reduce_len=True)\n",
    "    tokens = tweetTokenizer.tokenize(text)\n",
    "    tokens = [nltk.WordNetLemmatizer().lemmatize(token) for token in tokens]\n",
    "    tokens= [nltk.PorterStemmer().stem(token) for token in tokens]\n",
    "    return tokens"
   ]
  },
  {
   "cell_type": "markdown",
   "metadata": {},
   "source": [
    "### Feature Extraction"
   ]
  },
  {
   "cell_type": "code",
   "execution_count": 4,
   "metadata": {
    "collapsed": false
   },
   "outputs": [],
   "source": [
    "# w2v = glove.Glove.load_stanford('glove.twitter.27B.200d.txt')"
   ]
  },
  {
   "cell_type": "code",
   "execution_count": 5,
   "metadata": {
    "collapsed": true
   },
   "outputs": [],
   "source": [
    "# learned_word_vectors = w2v.word_vectors\n",
    "# learned_dictionary = w2v.dictionary\n",
    "\n",
    "# pickle.dump((learned_word_vectors,learned_dictionary),open('glove_twitter_200d.pkl','wb'))"
   ]
  },
  {
   "cell_type": "code",
   "execution_count": 6,
   "metadata": {
    "collapsed": true
   },
   "outputs": [],
   "source": [
    "learned_word_vectors,learned_dictionary = pickle.load( open( \"glove_twitter_200d.pkl\", \"rb\" ) )"
   ]
  },
  {
   "cell_type": "code",
   "execution_count": 7,
   "metadata": {
    "collapsed": false
   },
   "outputs": [],
   "source": [
    "# t = build_tokens(df_train.Comment[0])\n",
    "\n",
    "def make_tweetVector(df_comments):\n",
    "    tweetVector = np.zeros((len(df_comments),200),dtype='float')\n",
    "    count = 0 \n",
    "    for text in df_comments:\n",
    "        tokens = build_tokens(text)\n",
    "        rowVector = np.zeros(200,)\n",
    "        for token in tokens:\n",
    "            if token not in learned_dictionary:\n",
    "                continue\n",
    "            else:\n",
    "                vec = learned_word_vectors[learned_dictionary[token.lower()]]\n",
    "                rowVector = np.add(rowVector,vec)\n",
    "        tweetVector[count] = rowVector\n",
    "        count+=1\n",
    "    return tweetVector"
   ]
  },
  {
   "cell_type": "code",
   "execution_count": 11,
   "metadata": {
    "collapsed": true
   },
   "outputs": [],
   "source": [
    "# tfidf feature extraction and chi2 selection\n",
    "def feature_extraction(df_train, df_test):\n",
    "    vectorizer = TfidfVectorizer(sublinear_tf=True, ngram_range=(1,4), \n",
    "#                                  max_df= 0.5, \n",
    "                                 analyzer= \"word\",\n",
    "                                 tokenizer= build_tokens ,\n",
    "#                                  min_df=10,\n",
    "                                 max_features=10000) #current best for max_features = 4000   \n",
    "#     count_vectorizer = CountVectorizer(analyzer=\"word\", tokenizer=build_tokens, ngram_range=(1,3), max_features=1000)\n",
    "    \n",
    "    X_train_tfidf = vectorizer.fit_transform(df_train[\"Comment\"]).todense()\n",
    "    X_test_tfidf = vectorizer.transform(df_test[\"Comment\"]).todense()\n",
    "\n",
    "    X_train_wordVec = make_tweetVector(df_train[\"Comment\"])\n",
    "    X_test_wordVec = make_tweetVector(df_test[\"Comment\"])\n",
    "    \n",
    "#     X_train = np.hstack((X_train_tfidf,X_train_wordVec))\n",
    "#     X_test = np.hstack((X_test_tfidf,X_test_wordVec))\n",
    "#     X_train = X_train_tfidf\n",
    "#     X_test = X_test_tfidf\n",
    "    \n",
    "    X_train = X_train_wordVec\n",
    "    X_test = X_test_wordVec\n",
    "    \n",
    "#     ch2 = SelectKBest(chi2, k = 'all') #current best for k=2300(0.8815625)\n",
    "#     X_train = ch2.fit_transform(X_train, df_train.Comment)\n",
    "#     X_test = ch2.transform(X_test)\n",
    "    \n",
    "    ####### Debug run #######\n",
    "    # feature_names = vectorizer.get_feature_names()\n",
    "    # feature_names = [feature_names[i] for i in ch2.get_support(indices=True)]\n",
    "    \n",
    "    return X_train, X_test"
   ]
  },
  {
   "cell_type": "markdown",
   "metadata": {},
   "source": [
    "### Classifier"
   ]
  },
  {
   "cell_type": "code",
   "execution_count": 9,
   "metadata": {
    "collapsed": false
   },
   "outputs": [],
   "source": [
    "# \n",
    "def classify_train(clf_type, X_train, train_category):\n",
    "    if clf_type == \"logreg\":\n",
    "#         logreg = linear_model.LogisticRegression(tol=1e-8, max_iter=8000)\n",
    "        logreg = linear_model.LogisticRegression(C=8.25, max_iter=8000, tol=1e-8)\n",
    "        logreg.fit(X_train, train_category)\n",
    "        return logreg\n",
    "    elif clf_type == \"svm_rbf\":\n",
    "        clf = svm.SVC(kernel='rbf', gamma=0.8, C=1, decision_function_shape=\"ovr\", probability=True)\n",
    "        clf.fit(X_train, train_category)\n",
    "        return clf\n",
    "    elif clf_type == \"svm_linear\":\n",
    "        clf = svm.SVC(kernel = 'linear', probability = True)\n",
    "        clf.fit(X_train, train_category)\n",
    "        return clf\n",
    "    elif clf_type == \"sgd\":\n",
    "        clf = linear_model.SGDClassifier(n_iter=2000,loss = 'modified_huber', penalty = 'elasticnet', n_jobs=-1)\n",
    "        clf.fit(X_train,train_category)\n",
    "        return clf\n",
    "    elif clf_type == \"nb\":\n",
    "        clf = MultinomialNB()\n",
    "        clf.fit(X_train,train_category)\n",
    "        return clf\n",
    "    elif clf_type == \"nn\":\n",
    "        clf = MLPClassifier(solver='adam', alpha=1e-5,hidden_layer_sizes=(500,150), max_iter=50000, random_state=1)\n",
    "        clf.fit(X_train,train_category)\n",
    "        return clf\n",
    "    # ensemble of different classifiers. We used a soft voting measure to combine the output\n",
    "    elif clf_type == \"ensemble\":\n",
    "        clf1 = linear_model.LogisticRegression(C=8.25, max_iter=3000, tol=1e-8)\n",
    "        clf3 = svm.SVC(kernel='rbf', gamma=0.8, C=1, decision_function_shape=\"ovr\",probability=True)\n",
    "        clf4 = linear_model.SGDClassifier(n_iter=2000,loss = 'modified_huber', penalty = 'elasticnet', n_jobs=-1)\n",
    "        eclf = VotingClassifier(estimators=[('lr',clf1),('svm_rbf',clf3), ('sgd' , clf4)], voting=\"soft\")\n",
    "        eclf = eclf.fit(X_train,train_category)\n",
    "        return eclf"
   ]
  },
  {
   "cell_type": "markdown",
   "metadata": {},
   "source": [
    "##### This function takes a trained classifier and a set of features as input and returns the prediction of the classifier"
   ]
  },
  {
   "cell_type": "code",
   "execution_count": 10,
   "metadata": {
    "collapsed": true
   },
   "outputs": [],
   "source": [
    "def classify_predict(clf, X_test):\n",
    "    predictions = clf.predict(X_test)\n",
    "    return predictions\n",
    "\n",
    "def check_val_score(predictions, true_vals):\n",
    "    return metrics.accuracy_score(true_vals,predictions)"
   ]
  },
  {
   "cell_type": "markdown",
   "metadata": {},
   "source": [
    "## Getting it all together"
   ]
  },
  {
   "cell_type": "markdown",
   "metadata": {},
   "source": [
    "### Validation run"
   ]
  },
  {
   "cell_type": "code",
   "execution_count": 17,
   "metadata": {
    "collapsed": false
   },
   "outputs": [],
   "source": [
    "df_train, df_test = load_Dataset()\n",
    "X_train, X_test = feature_extraction(df_train, df_test)"
   ]
  },
  {
   "cell_type": "code",
   "execution_count": 18,
   "metadata": {
    "collapsed": false
   },
   "outputs": [],
   "source": [
    "clf = classify_train(\"ensemble\", X_train, df_train.Insult)"
   ]
  },
  {
   "cell_type": "code",
   "execution_count": 19,
   "metadata": {
    "collapsed": false
   },
   "outputs": [
    {
     "name": "stdout",
     "output_type": "stream",
     "text": [
      "0.795944233207\n"
     ]
    }
   ],
   "source": [
    "predictions = classify_predict(clf, X_test)\n",
    "print(check_val_score(predictions, df_test.Insult))"
   ]
  },
  {
   "cell_type": "markdown",
   "metadata": {},
   "source": [
    "### Final run "
   ]
  },
  {
   "cell_type": "code",
   "execution_count": 15,
   "metadata": {
    "collapsed": false
   },
   "outputs": [],
   "source": [
    "df_train, df_test = load_Dataset(\"test\")\n",
    "X_train, X_test = feature_extraction(df_train, df_test)"
   ]
  },
  {
   "cell_type": "code",
   "execution_count": 16,
   "metadata": {
    "collapsed": false
   },
   "outputs": [
    {
     "name": "stdout",
     "output_type": "stream",
     "text": [
      "0.813373630525\n"
     ]
    }
   ],
   "source": [
    "clf = classify_train(\"logreg\", X_train, df_train.Insult)\n",
    "\n",
    "predictions = classify_predict(clf, X_test)\n",
    "print(check_val_score(predictions, df_test.Insult))"
   ]
  },
  {
   "cell_type": "code",
   "execution_count": null,
   "metadata": {
    "collapsed": true
   },
   "outputs": [],
   "source": []
  }
 ],
 "metadata": {
  "anaconda-cloud": {},
  "kernelspec": {
   "display_name": "Python [Info256]",
   "language": "python",
   "name": "Python [Info256]"
  },
  "language_info": {
   "codemirror_mode": {
    "name": "ipython",
    "version": 3
   },
   "file_extension": ".py",
   "mimetype": "text/x-python",
   "name": "python",
   "nbconvert_exporter": "python",
   "pygments_lexer": "ipython3",
   "version": "3.5.2"
  }
 },
 "nbformat": 4,
 "nbformat_minor": 0
}
