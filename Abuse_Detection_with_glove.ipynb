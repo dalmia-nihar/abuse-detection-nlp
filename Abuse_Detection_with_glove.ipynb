{
 "cells": [
  {
   "cell_type": "markdown",
   "metadata": {},
   "source": [
    "## Imports"
   ]
  },
  {
   "cell_type": "code",
   "execution_count": 106,
   "metadata": {
    "collapsed": true
   },
   "outputs": [],
   "source": [
    "import pandas as pd\n",
    "import nltk, re, string\n",
    "import numpy as np\n",
    "\n",
    "from sklearn.feature_extraction.text import TfidfVectorizer\n",
    "from sklearn.feature_extraction.text import TfidfTransformer\n",
    "from sklearn.feature_extraction.text import CountVectorizer\n",
    "from sklearn.feature_selection import SelectKBest, chi2\n",
    "from sklearn import svm\n",
    "from nltk.corpus import stopwords\n",
    "\n",
    "from sklearn import linear_model\n",
    "from sklearn.naive_bayes import MultinomialNB\n",
    "from sklearn.neural_network import MLPClassifier\n",
    "\n",
    "from sklearn.model_selection import GridSearchCV\n",
    "from sklearn.metrics import classification_report\n",
    "from sklearn.preprocessing import scale\n",
    "\n",
    "\n",
    "from sklearn.metrics import confusion_matrix\n",
    "import sklearn.metrics as metrics\n",
    "import itertools\n",
    "%matplotlib inline\n",
    "import matplotlib.pyplot as plt\n",
    "from sklearn.ensemble import VotingClassifier\n",
    "from sklearn.ensemble import RandomForestClassifier\n",
    "\n",
    "import glove #Installing glove on mac seemed non-trivial. Running it on Linux, pickling results for further use.\n",
    "import pickle \n",
    "\n",
    "#Let's try some visualizations\n",
    "from sklearn.manifold import TSNE\n",
    "import matplotlib.pyplot as plt"
   ]
  },
  {
   "cell_type": "markdown",
   "metadata": {},
   "source": [
    "## Preprocess Data"
   ]
  },
  {
   "cell_type": "markdown",
   "metadata": {},
   "source": [
    "Read the csv file and make a dataframe.\n",
    "- For training: Randomize and Divide it into 80:20 partitions"
   ]
  },
  {
   "cell_type": "code",
   "execution_count": 3,
   "metadata": {
    "collapsed": true
   },
   "outputs": [],
   "source": [
    "def load_Dataset(run=\"train\"):\n",
    "    df = pd.read_csv(\"train.csv\")\n",
    "    df = df[df[\"Comment\"].notnull()]\n",
    "    df.apply(np.random.permutation)\n",
    "    if run==\"train\":\n",
    "        df_train = df[:round(0.8*len(df))]\n",
    "        df_test = df[round(0.8*len(df)):]\n",
    "    elif run==\"test\":\n",
    "        df_train = df\n",
    "        df_test = pd.read_csv(\"test_with_solutions.csv\")\n",
    "#         df_test = pd.read_csv(\"impermium_verification_labels.csv\")\n",
    "    return df_train, df_test"
   ]
  },
  {
   "cell_type": "markdown",
   "metadata": {},
   "source": [
    "### Tokenization"
   ]
  },
  {
   "cell_type": "markdown",
   "metadata": {},
   "source": [
    "This function takes a text and does the following to return the tokens:\n",
    "* Use nltk's TweetTokenizer to get tokens\n",
    "* Use wordNetLemmatizer for lemmatization\n",
    "* Use porterStemmer to stem the resulting tokens"
   ]
  },
  {
   "cell_type": "code",
   "execution_count": 101,
   "metadata": {
    "collapsed": true
   },
   "outputs": [],
   "source": [
    "def build_tokens(text):\n",
    "    tweetTokenizer = nltk.tokenize.TweetTokenizer(strip_handles=True, reduce_len=True)\n",
    "    tokens = tweetTokenizer.tokenize(text)\n",
    "    tokens = [nltk.WordNetLemmatizer().lemmatize(token) for token in tokens]\n",
    "    tokens= [nltk.PorterStemmer().stem(token) for token in tokens]\n",
    "    return tokens"
   ]
  },
  {
   "cell_type": "markdown",
   "metadata": {},
   "source": [
    "## Feature Extraction"
   ]
  },
  {
   "cell_type": "markdown",
   "metadata": {},
   "source": [
    "### - Word2Vec Features using Glove "
   ]
  },
  {
   "cell_type": "markdown",
   "metadata": {},
   "source": [
    "-  Loading the 27B tweet dataset \n",
    "-  Got the significant parts and pickled for later use (glove_twitter_200d.pkl) "
   ]
  },
  {
   "cell_type": "code",
   "execution_count": 5,
   "metadata": {
    "collapsed": false
   },
   "outputs": [],
   "source": [
    "# w2v = glove.Glove.load_stanford('glove.twitter.27B.200d.txt')"
   ]
  },
  {
   "cell_type": "code",
   "execution_count": 6,
   "metadata": {
    "collapsed": true
   },
   "outputs": [],
   "source": [
    "# learned_word_vectors = w2v.word_vectors\n",
    "# learned_dictionary = w2v.dictionary\n",
    "\n",
    "# pickle.dump((learned_word_vectors,learned_dictionary),open('glove_twitter_200d.pkl','wb'))"
   ]
  },
  {
   "cell_type": "code",
   "execution_count": 7,
   "metadata": {
    "collapsed": true
   },
   "outputs": [],
   "source": [
    "learned_word_vectors,learned_dictionary = pickle.load( open( \"glove_twitter_200d.pkl\", \"rb\" ) ) \n",
    "#Unable to upload on git. Will post somewhere for download separately.   "
   ]
  },
  {
   "cell_type": "markdown",
   "metadata": {},
   "source": [
    "### This Function does the following:\n",
    "* To make Tweet Vector we take all tokens in a tweet and see if we have a word2vec for that word. We keep adding all these word vectors and take average to get a tweet vector\n",
    "* We are making our entire tweet into a 200 dimensional vector"
   ]
  },
  {
   "cell_type": "code",
   "execution_count": 18,
   "metadata": {
    "collapsed": false
   },
   "outputs": [],
   "source": [
    "# t = build_tokens(df_train.Comment[0])\n",
    "\n",
    "def make_tweetVector(df_comments):\n",
    "    tweetVector = np.zeros((len(df_comments),200),dtype='float')\n",
    "    count = 0 \n",
    "    for text in df_comments:\n",
    "        valids= 0\n",
    "        tokens = build_tokens(text)\n",
    "        rowVector = np.zeros(200,)\n",
    "        for token in tokens:\n",
    "            if token not in learned_dictionary:\n",
    "                continue\n",
    "            else:\n",
    "                valids+=1\n",
    "                vec = learned_word_vectors[learned_dictionary[token.lower()]]\n",
    "                rowVector = np.add(rowVector,vec)\n",
    "        tweetVector[count] = rowVector/valids\n",
    "        count+=1\n",
    "    return tweetVector"
   ]
  },
  {
   "cell_type": "markdown",
   "metadata": {},
   "source": [
    "### This function does the following:\n",
    "* 1. We take our tfidf and word vectors and append them to get the final vector. Since these are of different scale, we are normalising the final vector"
   ]
  },
  {
   "cell_type": "code",
   "execution_count": 67,
   "metadata": {
    "collapsed": true
   },
   "outputs": [],
   "source": [
    "# tfidf feature extraction and chi2 selection\n",
    "def feature_extraction(df_train, df_test):\n",
    "    vectorizer = TfidfVectorizer(sublinear_tf=True, ngram_range=(1,4), \n",
    "#                                  max_df= 0.5, \n",
    "                                 analyzer= \"word\",\n",
    "                                 tokenizer= build_tokens ,\n",
    "#                                  min_df=10,\n",
    "                                 max_features=10000) #current best for max_features = 4000   \n",
    "#     count_vectorizer = CountVectorizer(analyzer=\"word\", tokenizer=build_tokens, ngram_range=(1,3), max_features=1000)\n",
    "    \n",
    "    X_train_tfidf = vectorizer.fit_transform(df_train[\"Comment\"]).todense()\n",
    "    X_test_tfidf = vectorizer.transform(df_test[\"Comment\"]).todense()\n",
    "\n",
    "    X_train_wordVec = make_tweetVector(df_train[\"Comment\"])\n",
    "    X_test_wordVec = make_tweetVector(df_test[\"Comment\"])\n",
    "    \n",
    "    X_train = scale(np.hstack((X_train_tfidf,X_train_wordVec)))\n",
    "    X_test = scale(np.hstack((X_test_tfidf,X_test_wordVec)))\n",
    "#     X_train = X_train_tfidf\n",
    "#     X_test = X_test_tfidf\n",
    "    \n",
    "#     X_train = scale(X_train_wordVec)\n",
    "#     X_test = scale(X_test_wordVec)\n",
    "    \n",
    "#     ch2 = SelectKBest(chi2, k = 'all') #current best for k=2300(0.8815625)\n",
    "#     X_train = ch2.fit_transform(X_train, df_train.Comment)\n",
    "#     X_test = ch2.transform(X_test)\n",
    "    \n",
    "    ####### Debug run #######\n",
    "    # feature_names = vectorizer.get_feature_names()\n",
    "    # feature_names = [feature_names[i] for i in ch2.get_support(indices=True)]\n",
    "    \n",
    "    return X_train, X_test"
   ]
  },
  {
   "cell_type": "markdown",
   "metadata": {},
   "source": [
    "## Classifier"
   ]
  },
  {
   "cell_type": "code",
   "execution_count": 116,
   "metadata": {
    "collapsed": false
   },
   "outputs": [],
   "source": [
    "# \n",
    "def classify_train(clf_type, X_train, train_category):\n",
    "    if clf_type == \"logreg\": #81.1\n",
    "#         logreg = linear_model.LogisticRegression(tol=1e-8, max_iter=8000)\n",
    "        logreg = linear_model.LogisticRegression(C=8.25, max_iter=3000, tol=1e-8)\n",
    "        logreg.fit(X_train, train_category)\n",
    "        return logreg\n",
    "    \n",
    "    elif clf_type == \"svm_rbf\": #80.3\n",
    "        clf = svm.SVC(kernel='rbf', gamma=0.0001, C=1, decision_function_shape=\"ovr\", probability=True)\n",
    "        clf.fit(X_train, train_category)\n",
    "        return clf\n",
    "    \n",
    "    elif clf_type == \"svm_linear\":\n",
    "        clf = svm.SVC(kernel = 'linear', probability = True)\n",
    "        clf.fit(X_train, train_category)\n",
    "        return clf\n",
    "    \n",
    "    elif clf_type == \"sgd\": #76.9\n",
    "        clf = linear_model.SGDClassifier(n_iter=2000,loss = 'modified_huber', penalty = 'elasticnet', n_jobs=-1)\n",
    "        clf.fit(X_train,train_category)\n",
    "        return clf\n",
    "    \n",
    "    elif clf_type == \"nb\":\n",
    "        clf = MultinomialNB()\n",
    "        clf.fit(X_train,train_category)\n",
    "        return clf\n",
    "    \n",
    "    elif clf_type == \"nn\":\n",
    "        clf = MLPClassifier(solver='adam', alpha=1e-5,hidden_layer_sizes=(500,150), max_iter=50000, random_state=1)\n",
    "        clf.fit(X_train,train_category)\n",
    "        return clf\n",
    "    \n",
    "    ## - ensemble of different classifiers. \n",
    "    ## - We used a soft voting measure to combine the output\n",
    "    \n",
    "    elif clf_type == \"ensemble\":\n",
    "        clf1 = linear_model.LogisticRegression(C=8.25, max_iter=3000, tol=1e-8)\n",
    "        clf3 = svm.SVC(kernel='rbf', gamma=0.0001, C=1, decision_function_shape=\"ovr\",probability=True)\n",
    "        clf4 = linear_model.SGDClassifier(n_iter=2000,loss = 'modified_huber', penalty = 'elasticnet', n_jobs=-1)\n",
    "        eclf = VotingClassifier(estimators=[('lr',clf1),('svm_rbf',clf3), ('sgd' , clf4)], voting=\"soft\")\n",
    "        eclf = eclf.fit(X_train,train_category)\n",
    "        return eclf"
   ]
  },
  {
   "cell_type": "markdown",
   "metadata": {},
   "source": [
    "##### This function takes a trained classifier and a set of features as input and returns the prediction of the classifier"
   ]
  },
  {
   "cell_type": "code",
   "execution_count": 117,
   "metadata": {
    "collapsed": true
   },
   "outputs": [],
   "source": [
    "def classify_predict(clf, X_test):\n",
    "    predictions = clf.predict(X_test)\n",
    "    return predictions\n",
    "\n",
    "def check_val_score(predictions, true_vals):\n",
    "    return metrics.accuracy_score(true_vals,predictions)"
   ]
  },
  {
   "cell_type": "markdown",
   "metadata": {},
   "source": [
    "## Getting it all together"
   ]
  },
  {
   "cell_type": "markdown",
   "metadata": {},
   "source": [
    "### Validation run"
   ]
  },
  {
   "cell_type": "code",
   "execution_count": 118,
   "metadata": {
    "collapsed": false
   },
   "outputs": [],
   "source": [
    "df_train, df_test = load_Dataset()\n",
    "X_train, X_test = feature_extraction(df_train, df_test)"
   ]
  },
  {
   "cell_type": "markdown",
   "metadata": {},
   "source": [
    "### Visualization with t-SNE"
   ]
  },
  {
   "cell_type": "markdown",
   "metadata": {},
   "source": [
    "###### we get our final X_train to 2-Dimensions and plot insults as Blue"
   ]
  },
  {
   "cell_type": "code",
   "execution_count": 96,
   "metadata": {
    "collapsed": false
   },
   "outputs": [
    {
     "data": {
      "image/png": "[encoded data removed]",
      "text/plain": [
       "<matplotlib.figure.Figure at 0x7f9a057d0eb8>"
      ]
     },
     "metadata": {},
     "output_type": "display_data"
    }
   ],
   "source": [
    "ts = TSNE(2)\n",
    "reduced_vecs = ts.fit_transform(X_train)\n",
    "\n",
    "#color points by word group to see if Word2Vec can separate them\n",
    "for i in range(len(reduced_vecs)):\n",
    "    if df_train.Insult[i] == 1:\n",
    "        color = 'b'\n",
    "    else:\n",
    "        color = 'r'\n",
    "    plt.plot(reduced_vecs[i,0], reduced_vecs[i,1], marker='o', color=color, markersize=4)"
   ]
  },
  {
   "cell_type": "code",
   "execution_count": 123,
   "metadata": {
    "collapsed": false
   },
   "outputs": [],
   "source": [
    "clf = classify_train(\"nn\", X_train, df_train.Insult)"
   ]
  },
  {
   "cell_type": "code",
   "execution_count": 125,
   "metadata": {
    "collapsed": false
   },
   "outputs": [
    {
     "name": "stdout",
     "output_type": "stream",
     "text": [
      "0.844106463878\n"
     ]
    }
   ],
   "source": [
    "predictions = classify_predict(clf, X_test)\n",
    "print(check_val_score(predictions, df_test.Insult))"
   ]
  },
  {
   "cell_type": "markdown",
   "metadata": {},
   "source": [
    "#### Grid Search to tune the hyper-parameters"
   ]
  },
  {
   "cell_type": "code",
   "execution_count": 108,
   "metadata": {
    "collapsed": false
   },
   "outputs": [
    {
     "name": "stdout",
     "output_type": "stream",
     "text": [
      "# Tuning hyper-parameters for precision\n",
      "\n",
      "Best parameters set found on development set:\n",
      "\n",
      "{'C': 1, 'kernel': 'rbf', 'gamma': 0.0001}\n",
      "\n",
      "Grid scores on development set:\n",
      "\n",
      "0.769 (+/-0.247) for {'C': 1, 'kernel': 'rbf', 'gamma': 0.001}\n",
      "0.835 (+/-0.053) for {'C': 1, 'kernel': 'rbf', 'gamma': 0.0001}\n",
      "0.738 (+/-0.126) for {'C': 10, 'kernel': 'rbf', 'gamma': 0.001}\n",
      "0.808 (+/-0.029) for {'C': 10, 'kernel': 'rbf', 'gamma': 0.0001}\n",
      "0.738 (+/-0.126) for {'C': 100, 'kernel': 'rbf', 'gamma': 0.001}\n",
      "0.797 (+/-0.053) for {'C': 100, 'kernel': 'rbf', 'gamma': 0.0001}\n",
      "0.738 (+/-0.126) for {'C': 1000, 'kernel': 'rbf', 'gamma': 0.001}\n",
      "0.797 (+/-0.054) for {'C': 1000, 'kernel': 'rbf', 'gamma': 0.0001}\n",
      "0.751 (+/-0.024) for {'C': 1, 'kernel': 'linear'}\n",
      "0.751 (+/-0.024) for {'C': 10, 'kernel': 'linear'}\n",
      "0.751 (+/-0.024) for {'C': 100, 'kernel': 'linear'}\n",
      "0.751 (+/-0.024) for {'C': 1000, 'kernel': 'linear'}\n",
      "\n",
      "Detailed classification report:\n",
      "\n",
      "The model is trained on the full development set.\n",
      "The scores are computed on the full evaluation set.\n",
      "\n",
      "             precision    recall  f1-score   support\n",
      "\n",
      "          0       0.80      0.98      0.88       578\n",
      "          1       0.87      0.31      0.46       211\n",
      "\n",
      "avg / total       0.82      0.80      0.77       789\n",
      "\n",
      "\n",
      "# Tuning hyper-parameters for recall\n",
      "\n",
      "Best parameters set found on development set:\n",
      "\n",
      "{'C': 1, 'kernel': 'linear'}\n",
      "\n",
      "Grid scores on development set:\n",
      "\n",
      "0.509 (+/-0.012) for {'C': 1, 'kernel': 'rbf', 'gamma': 0.001}\n",
      "0.588 (+/-0.023) for {'C': 1, 'kernel': 'rbf', 'gamma': 0.0001}\n",
      "0.511 (+/-0.012) for {'C': 10, 'kernel': 'rbf', 'gamma': 0.001}\n",
      "0.649 (+/-0.015) for {'C': 10, 'kernel': 'rbf', 'gamma': 0.0001}\n",
      "0.511 (+/-0.012) for {'C': 100, 'kernel': 'rbf', 'gamma': 0.001}\n",
      "0.653 (+/-0.028) for {'C': 100, 'kernel': 'rbf', 'gamma': 0.0001}\n",
      "0.511 (+/-0.012) for {'C': 1000, 'kernel': 'rbf', 'gamma': 0.001}\n",
      "0.653 (+/-0.030) for {'C': 1000, 'kernel': 'rbf', 'gamma': 0.0001}\n",
      "0.720 (+/-0.023) for {'C': 1, 'kernel': 'linear'}\n",
      "0.720 (+/-0.023) for {'C': 10, 'kernel': 'linear'}\n",
      "0.720 (+/-0.023) for {'C': 100, 'kernel': 'linear'}\n",
      "0.720 (+/-0.023) for {'C': 1000, 'kernel': 'linear'}\n",
      "\n",
      "Detailed classification report:\n",
      "\n",
      "The model is trained on the full development set.\n",
      "The scores are computed on the full evaluation set.\n",
      "\n",
      "             precision    recall  f1-score   support\n",
      "\n",
      "          0       0.85      0.90      0.88       578\n",
      "          1       0.68      0.56      0.62       211\n",
      "\n",
      "avg / total       0.80      0.81      0.81       789\n",
      "\n",
      "\n"
     ]
    }
   ],
   "source": [
    "# Set the parameters by cross-validation\n",
    "tuned_parameters = [{'kernel': ['rbf'], 'gamma': [1e-3, 1e-4],\n",
    "                     'C': [1, 10, 100, 1000]},\n",
    "                    {'kernel': ['linear'], 'C': [1, 10, 100, 1000]}]\n",
    "\n",
    "scores = ['precision', 'recall']\n",
    "\n",
    "for score in scores:\n",
    "    print(\"# Tuning hyper-parameters for %s\" % score)\n",
    "    print()\n",
    "\n",
    "    clf = GridSearchCV(svm.SVC(C=1), tuned_parameters, cv=5,\n",
    "                       scoring='%s_macro' % score)\n",
    "    clf.fit(X_train, df_train.Insult)\n",
    "\n",
    "    print(\"Best parameters set found on development set:\")\n",
    "    print()\n",
    "    print(clf.best_params_)\n",
    "    print()\n",
    "    print(\"Grid scores on development set:\")\n",
    "    print()\n",
    "    means = clf.cv_results_['mean_test_score']\n",
    "    stds = clf.cv_results_['std_test_score']\n",
    "    for mean, std, params in zip(means, stds, clf.cv_results_['params']):\n",
    "        print(\"%0.3f (+/-%0.03f) for %r\"\n",
    "              % (mean, std * 2, params))\n",
    "    print()\n",
    "\n",
    "    print(\"Detailed classification report:\")\n",
    "    print()\n",
    "    print(\"The model is trained on the full development set.\")\n",
    "    print(\"The scores are computed on the full evaluation set.\")\n",
    "    print()\n",
    "    y_true, y_pred = df_test.Insult, clf.predict(X_test)\n",
    "    print(classification_report(y_true, y_pred))\n",
    "    print()\n"
   ]
  },
  {
   "cell_type": "markdown",
   "metadata": {},
   "source": [
    "### Final run "
   ]
  },
  {
   "cell_type": "code",
   "execution_count": 126,
   "metadata": {
    "collapsed": false
   },
   "outputs": [],
   "source": [
    "df_train, df_test = load_Dataset(\"test\")\n",
    "X_train, X_test = feature_extraction(df_train, df_test)"
   ]
  },
  {
   "cell_type": "code",
   "execution_count": 127,
   "metadata": {
    "collapsed": false
   },
   "outputs": [
    {
     "name": "stdout",
     "output_type": "stream",
     "text": [
      "0.826596146581\n"
     ]
    }
   ],
   "source": [
    "clf = classify_train(\"nn\", X_train, df_train.Insult)\n",
    "\n",
    "predictions = classify_predict(clf, X_test)\n",
    "print(check_val_score(predictions, df_test.Insult))"
   ]
  },
  {
   "cell_type": "code",
   "execution_count": null,
   "metadata": {
    "collapsed": true
   },
   "outputs": [],
   "source": []
  }
 ],
 "metadata": {
  "anaconda-cloud": {},
  "kernelspec": {
   "display_name": "Python [Info256]",
   "language": "python",
   "name": "Python [Info256]"
  },
  "language_info": {
   "codemirror_mode": {
    "name": "ipython",
    "version": 3
   },
   "file_extension": ".py",
   "mimetype": "text/x-python",
   "name": "python",
   "nbconvert_exporter": "python",
   "pygments_lexer": "ipython3",
   "version": "3.5.2"
  }
 },
 "nbformat": 4,
 "nbformat_minor": 0
}
