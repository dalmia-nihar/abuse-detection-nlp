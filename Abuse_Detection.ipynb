{
 "cells": [
  {
   "cell_type": "markdown",
   "metadata": {},
   "source": [
    "### Imports"
   ]
  },
  {
   "cell_type": "code",
   "execution_count": 54,
   "metadata": {
    "collapsed": false
   },
   "outputs": [
    {
     "name": "stderr",
     "output_type": "stream",
     "text": [
      "/Users/NiaVivek/anaconda/lib/python3.5/site-packages/nltk/twitter/__init__.py:20: UserWarning: The twython library has not been installed. Some functionality from the twitter package will not be available.\n",
      "  warnings.warn(\"The twython library has not been installed. \"\n"
     ]
    }
   ],
   "source": [
    "import pandas as pd\n",
    "import nltk, re, string\n",
    "import numpy as np\n",
    "from scipy import sparse\n",
    "\n",
    "from sklearn.feature_extraction.text import TfidfVectorizer\n",
    "from sklearn.feature_extraction.text import TfidfTransformer\n",
    "from sklearn.feature_extraction.text import CountVectorizer\n",
    "from sklearn.feature_selection import SelectKBest, chi2\n",
    "from sklearn import preprocessing\n",
    "from sklearn import svm\n",
    "from nltk.corpus import stopwords\n",
    "\n",
    "from sklearn import linear_model\n",
    "from sklearn.naive_bayes import MultinomialNB\n",
    "from sklearn.neural_network import MLPClassifier\n",
    "from sklearn.metrics import accuracy_score\n",
    "from sklearn.metrics import confusion_matrix\n",
    "import sklearn.metrics as metrics\n",
    "import itertools\n",
    "%matplotlib inline\n",
    "import matplotlib.pyplot as plt\n",
    "from sklearn.ensemble import VotingClassifier\n",
    "from sklearn.metrics import classification_report\n",
    "from sklearn.pipeline import Pipeline, FeatureUnion\n",
    "from sklearn.grid_search import GridSearchCV\n",
    "from sklearn.linear_model import SGDClassifier\n",
    "from sklearn.linear_model import LogisticRegression\n",
    "from sklearn.base import BaseEstimator, TransformerMixin\n",
    "from sklearn.cross_validation import StratifiedKFold\n",
    "from nltk.sentiment.vader import SentimentIntensityAnalyzer\n",
    "import re, collections\n",
    "from nltk.corpus import words as w"
   ]
  },
  {
   "cell_type": "markdown",
   "metadata": {},
   "source": [
    "### Preprocess Data"
   ]
  },
  {
   "cell_type": "markdown",
   "metadata": {},
   "source": [
    "Read the csv file and make a dataframe.\n",
    "- For training: Randomize and Divide it into 80:20 partitions"
   ]
  },
  {
   "cell_type": "code",
   "execution_count": 55,
   "metadata": {
    "collapsed": true
   },
   "outputs": [],
   "source": [
    "def load_Dataset(run=\"train\"):\n",
    "    df = pd.read_csv(\"train.csv\")\n",
    "    df = df[df[\"Comment\"].notnull()]\n",
    "    df.apply(np.random.permutation)\n",
    "    if run==\"train\":\n",
    "        df_train = df[:round(0.8*len(df))]\n",
    "        df_test = df[round(0.8*len(df)):]\n",
    "    elif run==\"test\":\n",
    "        df_train = df\n",
    "        df_test = pd.read_csv(\"test_with_solutions_2.csv\")\n",
    "    return df_train, df_test"
   ]
  },
  {
   "cell_type": "markdown",
   "metadata": {},
   "source": [
    "### Tokenization"
   ]
  },
  {
   "cell_type": "markdown",
   "metadata": {},
   "source": [
    "This function takes a text and does the following to return the tokens:\n",
    "* Use nltk's TweetTokenizer to get tokens\n",
    "* Use wordNetLemmatizer for lemmatization\n",
    "* Use porterStemmer to stem the resulting tokens"
   ]
  },
  {
   "cell_type": "code",
   "execution_count": 56,
   "metadata": {
    "collapsed": true
   },
   "outputs": [],
   "source": [
    "def words(text):\n",
    "    return re.findall('[a-z]+', text.lower())\n",
    "\n",
    "def train(features):\n",
    "    model = collections.defaultdict(lambda: 1)\n",
    "    for f in features:\n",
    "        model[f] += 1   \n",
    "    return model\n",
    "\n",
    "with open(\"big.txt\", \"r\") as big:\n",
    "    word_corpus = big.read()\n",
    "for word in w.words():\n",
    "    word_corpus += word\n",
    "    \n",
    "\n",
    "NWORDS = train(words(word_corpus))\n",
    "with open(\"list_of_abuses.txt\", \"r\") as abuse_list:\n",
    "    abuses = abuse_list.read().split()\n",
    "    for abuse in abuses:\n",
    "        NWORDS[abuse] = 100\n",
    "\n",
    "alphabet = 'abcdefghijklmnopqrstuvwxyz'\n",
    "\n",
    "def edits1(word):\n",
    "#     print(word)\n",
    "    s = [(word[:i], word[i:]) for i in range(len(word) + 1)]\n",
    "    deletes    = [a + b[1:] for a, b in s if b]\n",
    "    transposes = [a + b[1] + b[0] + b[2:] for a, b in s if len(b)>1]\n",
    "    replaces   = [a + c + b[1:] for a, b in s for c in alphabet if b]\n",
    "    inserts    = [a + c + b     for a, b in s for c in alphabet]\n",
    "    return set(deletes + transposes + replaces + inserts)\n",
    "\n",
    "def known_edits2(word):\n",
    "    return set(e2 for e1 in edits1(word) for e2 in edits1(e1) if e2 in NWORDS)\n",
    "\n",
    "def known(words):\n",
    "    try:\n",
    "        return [int(w) for w in words] #to take care of purely numeric words\n",
    "    except:\n",
    "        return set(w for w in words if w.lower() in NWORDS)\n",
    "\n",
    "def correct(word):\n",
    "    if word[0] not in alphabet: \n",
    "        return word\n",
    "    else:\n",
    "        word = re.sub(r'(.)\\1+', r'\\1\\1', word)\n",
    "        candidates = known([word]) or known(edits1(word)) or known_edits2(word) or [word]\n",
    "        return max(candidates, key=NWORDS.get)"
   ]
  },
  {
   "cell_type": "code",
   "execution_count": 57,
   "metadata": {
    "collapsed": true
   },
   "outputs": [],
   "source": [
    "emoticons_str = r\"\"\"\n",
    "    (?:\n",
    "        [:=;] # Eyes\n",
    "        [oO\\-]? # Nose (optional)\n",
    "        [D\\)\\]\\(\\]/\\\\OpP] # Mouth\n",
    "    )\"\"\"\n",
    " \n",
    "regex_str = [\n",
    "    emoticons_str,\n",
    "    r'<[^>]+>', # HTML tags\n",
    "    r'(?:@[\\w_]+)', # @-mentions\n",
    "    r\"(?:\\#+[\\w_]+[\\w\\'_\\-]*[\\w_]+)\", # hash-tags\n",
    "    r'http[s]?://(?:[a-z]|[0-9]|[$-_@.&amp;+]|[!*\\(\\),]|(?:%[0-9a-f][0-9a-f]))+', # URLs\n",
    " \n",
    "    r'(?:(?:\\d+,?)+(?:\\.?\\d+)?)', # numbers\n",
    "    r\"(?:[a-z][a-z'\\-_]+[a-z])\", # words with - and '\n",
    "    r'(?:[\\w!@#$%^&*]+)', # To group symbols together\n",
    "    r'(?:[\\w_]+)', # other words\n",
    "    \n",
    "    r'(?:\\S)' # anything else\n",
    "]\n",
    "    \n",
    "tokens_re = re.compile(r'('+'|'.join(regex_str)+')', re.VERBOSE | re.IGNORECASE)\n",
    "emoticon_re = re.compile(r'^'+emoticons_str+'$', re.VERBOSE | re.IGNORECASE)\n",
    " \n",
    "def tokenize(s):\n",
    "    tokens = tokens_re.findall(s)\n",
    "    for i in range(len(tokens)):\n",
    "        clean_token = correct(tokens[i])\n",
    "        tokens[i] = clean_token\n",
    "    return tokens\n",
    " \n",
    "def preprocess(s, lowercase=False):\n",
    "    tokens = tokenize(s)\n",
    "    if lowercase:\n",
    "        tokens = [token if emoticon_re.search(token) else token.lower() for token in tokens]\n",
    "    return tokens"
   ]
  },
  {
   "cell_type": "code",
   "execution_count": 58,
   "metadata": {
    "collapsed": true
   },
   "outputs": [],
   "source": [
    "def build_tokens(text):\n",
    "#     tweetTokenizer = nltk.tokenize.TweetTokenizer(strip_handles=True, reduce_len=True)\n",
    "#     tokens = tweetTokenizer.tokenize(text)\n",
    "    tokens = preprocess(text, lowercase=True)\n",
    "    tokens = [nltk.WordNetLemmatizer().lemmatize(token) for token in tokens]\n",
    "    tokens= [nltk.PorterStemmer().stem(token) for token in tokens]\n",
    "    return tokens"
   ]
  },
  {
   "cell_type": "code",
   "execution_count": 59,
   "metadata": {
    "collapsed": false
   },
   "outputs": [
    {
     "data": {
      "text/plain": [
       "['your', 'a', 'retard', 'go', 'post', 'your', 'head', 'up', 'your', 'fuk']"
      ]
     },
     "execution_count": 59,
     "metadata": {},
     "output_type": "execute_result"
    }
   ],
   "source": [
    "build_tokens(\"Your a retard go post your head up your f%&k\")"
   ]
  },
  {
   "cell_type": "markdown",
   "metadata": {},
   "source": [
    "### Feature Extraction"
   ]
  },
  {
   "cell_type": "code",
   "execution_count": 60,
   "metadata": {
    "collapsed": true
   },
   "outputs": [],
   "source": [
    "# tfidf feature extraction and chi2 selection\n",
    "def feature_extraction(df_train, df_test):\n",
    "    vectorizer = TfidfVectorizer(sublinear_tf=True, ngram_range=(1,3), max_df= 0.5, analyzer= \"word\", tokenizer= build_tokens ,min_df=10,max_features=10000) #current best for max_features = 4000   \n",
    "#     count_vectorizer = CountVectorizer(analyzer=\"word\", tokenizer=build_tokens, ngram_range=(1,3), max_features=1000)\n",
    "    \n",
    "    X_train = vectorizer.fit_transform(df_train[\"Comment\"]).todense()\n",
    "    X_test = vectorizer.transform(df_test[\"Comment\"]).todense()\n",
    "\n",
    "    ch2 = SelectKBest(chi2, k = 'all') #current best for k=2300(0.8815625)\n",
    "    X_train = ch2.fit_transform(X_train, df_train.Comment)\n",
    "    X_test = ch2.transform(X_test)\n",
    "    \n",
    "    ####### Debug run #######\n",
    "    # feature_names = vectorizer.get_feature_names()\n",
    "    # feature_names = [feature_names[i] for i in ch2.get_support(indices=True)]\n",
    "    \n",
    "    return X_train, X_test"
   ]
  },
  {
   "cell_type": "markdown",
   "metadata": {},
   "source": [
    "### Classifier"
   ]
  },
  {
   "cell_type": "code",
   "execution_count": 61,
   "metadata": {
    "collapsed": false
   },
   "outputs": [],
   "source": [
    "# \n",
    "def classify_train(clf_type, X_train, train_category):\n",
    "    if clf_type == \"logreg\":\n",
    "#         logreg = linear_model.LogisticRegression(tol=1e-8, penalty='l2', C=4, max_iter=1000)\n",
    "        logreg = linear_model.LogisticRegression(C=8.25, max_iter=3000, tol=1e-8)\n",
    "        logreg.fit(X_train, train_category)\n",
    "        return logreg\n",
    "    elif clf_type == \"svm_rbf\":\n",
    "        clf = svm.SVC(kernel='rbf', gamma=0.8, C=1, decision_function_shape=\"ovr\", probability=True)\n",
    "        clf.fit(X_train, train_category)\n",
    "        return clf\n",
    "    elif clf_type == \"svm_linear\":\n",
    "        clf = svm.SVC(kernel = 'linear', probability = True)\n",
    "        clf.fit(X_train, train_category)\n",
    "        return clf\n",
    "    elif clf_type == \"sgd\":\n",
    "        clf = linear_model.SGDClassifier(n_iter=2000,loss = 'modified_huber', penalty = 'elasticnet', n_jobs=-1)\n",
    "        clf.fit(X_train,train_category)\n",
    "        return clf\n",
    "    elif clf_type == \"nb\":\n",
    "        clf = MultinomialNB()\n",
    "        clf.fit(X_train,train_category)\n",
    "        return clf\n",
    "    elif clf_type == \"nn\":\n",
    "        clf = MLPClassifier(solver='adam', alpha=1e-5,hidden_layer_sizes=(500,), max_iter=50000, random_state=1)\n",
    "        clf.fit(X_train,train_category)\n",
    "        return clf\n",
    "    # ensemble of different classifiers. We used a soft voting measure to combine the output\n",
    "    elif clf_type == \"ensemble\":\n",
    "        clf1 = linear_model.LogisticRegression(C=8.25, max_iter=3000, tol=1e-8)\n",
    "        clf3 = svm.SVC(kernel='rbf', gamma=0.8, C=1, decision_function_shape=\"ovr\",probability=True)\n",
    "        clf4 = linear_model.SGDClassifier(n_iter=2000,loss = 'modified_huber', penalty = 'elasticnet', n_jobs=-1)\n",
    "        clf5 = MLPClassifier(solver='adam', alpha=1e-5,hidden_layer_sizes=(500,), max_iter=50000, random_state=1)\n",
    "        eclf = VotingClassifier(estimators=[('lr',clf1),('svm_rbf',clf3), ('sgd' , clf4)], voting=\"soft\")\n",
    "        eclf = eclf.fit(X_train,train_category)\n",
    "        return eclf"
   ]
  },
  {
   "cell_type": "markdown",
   "metadata": {},
   "source": [
    "##### This function takes a trained classifier and a set of features as input and returns the prediction of the classifier"
   ]
  },
  {
   "cell_type": "code",
   "execution_count": 62,
   "metadata": {
    "collapsed": true
   },
   "outputs": [],
   "source": [
    "def classify_predict(clf, X_test):\n",
    "    predictions = clf.predict(X_test)\n",
    "    return predictions\n",
    "\n",
    "def check_val_score(predictions, true_vals):\n",
    "    return metrics.accuracy_score(true_vals,predictions)"
   ]
  },
  {
   "cell_type": "markdown",
   "metadata": {},
   "source": [
    "## Function to plot Confusion matrix"
   ]
  },
  {
   "cell_type": "code",
   "execution_count": 63,
   "metadata": {
    "collapsed": true
   },
   "outputs": [],
   "source": [
    "def plot_confusion_matrix(cm, title, target_names, cmap=plt.cm.coolwarm):\n",
    "    plt.figure(figsize=(8,8))\n",
    "    plt.imshow(cm, interpolation='nearest', cmap=cmap)\n",
    "    plt.title(title)\n",
    "    plt.colorbar()\n",
    "    tick_marks = np.arange(len(target_names))\n",
    "    plt.xticks(tick_marks, target_names, rotation=45)\n",
    "    plt.yticks(tick_marks, target_names)\n",
    "    plt.tight_layout()\n",
    "    plt.ylabel('True label')\n",
    "    plt.xlabel('Predicted label')"
   ]
  },
  {
   "cell_type": "markdown",
   "metadata": {},
   "source": [
    "## Pipeline and Adding Custom features"
   ]
  },
  {
   "cell_type": "markdown",
   "metadata": {},
   "source": [
    "#### Adding additional features"
   ]
  },
  {
   "cell_type": "markdown",
   "metadata": {},
   "source": [
    "2 custom features are added - percentage of bad words in a sentence as listed in the bad words file and the compound value from vader sentiment analysis."
   ]
  },
  {
   "cell_type": "code",
   "execution_count": 70,
   "metadata": {
    "collapsed": false
   },
   "outputs": [],
   "source": [
    "class AdditionalFeatureExtractor(BaseEstimator, TransformerMixin):\n",
    "\n",
    "    def __init__(self):\n",
    "        pass\n",
    "\n",
    "    def get_feature_names(self):\n",
    "        return (['percent_bad','vader_compound'])\n",
    "    \n",
    "    def num_bad(self, df):\n",
    "        #get number of words in each sentence\n",
    "        num_words = [len(word) for word in df]\n",
    "        \n",
    "        #get percent of abusive words in each sentence\n",
    "        with open(\"list_of_abuses.txt\", \"r\") as abuse_list:\n",
    "            abuses = abuse_list.read().split()\n",
    "            num_abuses = 0\n",
    "            for abuse in abuses:\n",
    "                num_abuses += 1\n",
    "            # number of badwords in list of abuses\n",
    "            num_bad = [np.sum([word.lower().count(abuse) for abuse in abuses])\n",
    "                                                for word in df]\n",
    "            norm_bad = np.array(num_bad) / np.array(num_words, dtype=np.float)\n",
    "        return norm_bad\n",
    "    \n",
    "    def vader_helper(self, df):\n",
    "        #vader analysis\n",
    "        sid = SentimentIntensityAnalyzer()\n",
    "        vader_feature = []\n",
    "        for sentence in df:\n",
    "            ss = sid.polarity_scores(sentence)\n",
    "            vader_feature.append(ss['compound'])\n",
    "        return vader_feature\n",
    "    \n",
    "    def transform(self, df, y=None):     \n",
    "        #add both the features to an array\n",
    "        X = np.array([self.num_bad(df), self.vader_helper(df)]).T\n",
    "        #X.reshape(-1, 1) #use if only 1 feature\n",
    "        if not hasattr(self, 'scalar'):\n",
    "            self.scalar = preprocessing.StandardScaler().fit(X)\n",
    "        return self.scalar.transform(X)      \n",
    "\n",
    "    def fit(self, df, y=None):\n",
    "        return self"
   ]
  },
  {
   "cell_type": "code",
   "execution_count": 118,
   "metadata": {
    "collapsed": true
   },
   "outputs": [],
   "source": [
    "def all_features():\n",
    "    features = []\n",
    "    custom_features = AdditionalFeatureExtractor() # this class includes my custom features\n",
    "    features.append(('custom_features', custom_features))\n",
    "\n",
    "    vect = TfidfVectorizer(sublinear_tf=True, ngram_range=(1,3), max_df= 0.5, analyzer= \"word\", tokenizer= build_tokens ,min_df=10,max_features=10000)\n",
    "    count_vect = CountVectorizer(analyzer=\"word\", tokenizer=build_tokens, ngram_range=(1,1), max_features=1000)\n",
    "    features.append(('ngram', vect))\n",
    "    features.append(('count', count_vect))\n",
    "\n",
    "    all_features = FeatureUnion(features)\n",
    "    return all_features"
   ]
  },
  {
   "cell_type": "code",
   "execution_count": 119,
   "metadata": {
    "collapsed": true
   },
   "outputs": [],
   "source": [
    "def all_classifiers():\n",
    "    clf1 = linear_model.LogisticRegression(C=8.25, max_iter=3000, tol=1e-8)\n",
    "    clf3 = svm.SVC(kernel='rbf', gamma=0.8, C=1, decision_function_shape=\"ovr\",probability=True)\n",
    "    clf4 = linear_model.SGDClassifier(n_iter=2000,loss = 'modified_huber', penalty = 'elasticnet',alpha=0.001, n_jobs=-1)\n",
    "    #clf5 = MLPClassifier(solver='adam', alpha=1e-5,hidden_layer_sizes=(500,),  max_iter=50000, random_state=1)\n",
    "    eclf = VotingClassifier(estimators=[('lr',clf1),('svm_rbf',clf3), ('sgd' , clf4)], voting=\"soft\")\n",
    "    return eclf"
   ]
  },
  {
   "cell_type": "markdown",
   "metadata": {},
   "source": [
    "### Pipeline"
   ]
  },
  {
   "cell_type": "code",
   "execution_count": 120,
   "metadata": {
    "collapsed": true
   },
   "outputs": [],
   "source": [
    "best_clf = Pipeline([\n",
    "    ('all', all_features() ),\n",
    "    #('kbest', SelectKBest(chi2, k = 'all')),\n",
    "    ('tfidf', TfidfTransformer(use_idf=True)),\n",
    "    ('ensemble',all_classifiers()),\n",
    "    ])"
   ]
  },
  {
   "cell_type": "markdown",
   "metadata": {},
   "source": [
    "### Testing pipeline and custom features"
   ]
  },
  {
   "cell_type": "code",
   "execution_count": 121,
   "metadata": {
    "collapsed": true
   },
   "outputs": [],
   "source": [
    "df_train, df_test = load_Dataset()"
   ]
  },
  {
   "cell_type": "code",
   "execution_count": 122,
   "metadata": {
    "collapsed": false
   },
   "outputs": [],
   "source": [
    "best_clf.fit(df_train.Comment,df_train.Insult)\n",
    "predicted = best_clf.predict(df_test.Comment)"
   ]
  },
  {
   "cell_type": "code",
   "execution_count": 123,
   "metadata": {
    "collapsed": false
   },
   "outputs": [
    {
     "data": {
      "text/plain": [
       "0.83523447401774398"
      ]
     },
     "execution_count": 123,
     "metadata": {},
     "output_type": "execute_result"
    }
   ],
   "source": [
    "accuracy_score(df_test.Insult,predicted)"
   ]
  },
  {
   "cell_type": "code",
   "execution_count": 124,
   "metadata": {
    "collapsed": false
   },
   "outputs": [
    {
     "name": "stdout",
     "output_type": "stream",
     "text": [
      "             precision    recall  f1-score   support\n",
      "\n",
      "          0       0.86      0.92      0.89       578\n",
      "          1       0.73      0.61      0.66       211\n",
      "\n",
      "avg / total       0.83      0.84      0.83       789\n",
      "\n"
     ]
    }
   ],
   "source": [
    "class_labels = np.sort(df_train.Insult.unique())\n",
    "lables = [str(i) for i in class_labels]\n",
    "print(classification_report(df_test.Insult, predicted, target_names=lables))"
   ]
  },
  {
   "cell_type": "markdown",
   "metadata": {},
   "source": [
    "#### Testing on test set - using pipeline and custom"
   ]
  },
  {
   "cell_type": "code",
   "execution_count": 125,
   "metadata": {
    "collapsed": true
   },
   "outputs": [],
   "source": [
    "df_train, df_test = load_Dataset(\"test\")"
   ]
  },
  {
   "cell_type": "code",
   "execution_count": 126,
   "metadata": {
    "collapsed": true
   },
   "outputs": [],
   "source": [
    "predictions = best_clf.predict(df_test.Comment)"
   ]
  },
  {
   "cell_type": "code",
   "execution_count": 127,
   "metadata": {
    "collapsed": false
   },
   "outputs": [
    {
     "data": {
      "text/plain": [
       "0.59451659451659455"
      ]
     },
     "execution_count": 127,
     "metadata": {},
     "output_type": "execute_result"
    }
   ],
   "source": [
    "accuracy_score(df_test.Insult,predictions)"
   ]
  },
  {
   "cell_type": "code",
   "execution_count": 128,
   "metadata": {
    "collapsed": false
   },
   "outputs": [
    {
     "name": "stdout",
     "output_type": "stream",
     "text": [
      "             precision    recall  f1-score   support\n",
      "\n",
      "          0       0.00      0.00      0.00         0\n",
      "          1       1.00      0.59      0.75       693\n",
      "\n",
      "avg / total       1.00      0.59      0.75       693\n",
      "\n"
     ]
    },
    {
     "name": "stderr",
     "output_type": "stream",
     "text": [
      "/Users/NiaVivek/anaconda/lib/python3.5/site-packages/sklearn/metrics/classification.py:1115: UndefinedMetricWarning: Recall and F-score are ill-defined and being set to 0.0 in labels with no true samples.\n",
      "  'recall', 'true', average, warn_for)\n"
     ]
    }
   ],
   "source": [
    "print(classification_report(df_test.Insult, predictions, target_names=lables))"
   ]
  },
  {
   "cell_type": "code",
   "execution_count": 129,
   "metadata": {
    "collapsed": false
   },
   "outputs": [
    {
     "data": {
      "image/png": "[encoded data removed]",
      "text/plain": [
       "<matplotlib.figure.Figure at 0x119f93240>"
      ]
     },
     "metadata": {},
     "output_type": "display_data"
    }
   ],
   "source": [
    "nb_cm = confusion_matrix(df_test.Insult, predictions)\n",
    "plot_confusion_matrix(nb_cm, \"Confusion Matrix\", class_labels)"
   ]
  },
  {
   "cell_type": "markdown",
   "metadata": {},
   "source": [
    "## Getting it all together"
   ]
  },
  {
   "cell_type": "markdown",
   "metadata": {},
   "source": [
    "### Validation run"
   ]
  },
  {
   "cell_type": "code",
   "execution_count": 35,
   "metadata": {
    "collapsed": false
   },
   "outputs": [],
   "source": [
    "df_train, df_test = load_Dataset()\n",
    "X_train, X_test = feature_extraction(df_train, df_test)"
   ]
  },
  {
   "cell_type": "code",
   "execution_count": 36,
   "metadata": {
    "collapsed": false
   },
   "outputs": [
    {
     "data": {
      "text/plain": [
       "<matplotlib.axes._subplots.AxesSubplot at 0x11a680860>"
      ]
     },
     "execution_count": 36,
     "metadata": {},
     "output_type": "execute_result"
    },
    {
     "data": {
      "image/png": "[encoded data removed]",
      "text/plain": [
       "<matplotlib.figure.Figure at 0x11a669f98>"
      ]
     },
     "metadata": {},
     "output_type": "display_data"
    }
   ],
   "source": [
    "category_counts = df_train[\"Insult\"].value_counts(ascending=True)\n",
    "category_counts.plot(kind='barh')"
   ]
  },
  {
   "cell_type": "code",
   "execution_count": 37,
   "metadata": {
    "collapsed": true
   },
   "outputs": [],
   "source": [
    "clf = classify_train(\"ensemble\", X_train, df_train.Insult)"
   ]
  },
  {
   "cell_type": "code",
   "execution_count": 38,
   "metadata": {
    "collapsed": false
   },
   "outputs": [
    {
     "name": "stdout",
     "output_type": "stream",
     "text": [
      "0.84030418251\n"
     ]
    }
   ],
   "source": [
    "predictions = classify_predict(clf, X_test)\n",
    "print(check_val_score(predictions, df_test.Insult))"
   ]
  },
  {
   "cell_type": "code",
   "execution_count": 39,
   "metadata": {
    "collapsed": false
   },
   "outputs": [
    {
     "name": "stdout",
     "output_type": "stream",
     "text": [
      "             precision    recall  f1-score   support\n",
      "\n",
      "          0       0.87      0.92      0.89       578\n",
      "          1       0.73      0.64      0.68       211\n",
      "\n",
      "avg / total       0.84      0.84      0.84       789\n",
      "\n"
     ]
    }
   ],
   "source": [
    "class_labels = np.sort(df_train.Insult.unique())\n",
    "from sklearn.metrics import classification_report\n",
    "\n",
    "lables = [str(i) for i in class_labels]\n",
    "print(classification_report(df_test.Insult, predictions, target_names=lables))"
   ]
  },
  {
   "cell_type": "markdown",
   "metadata": {},
   "source": [
    "### Final run "
   ]
  },
  {
   "cell_type": "code",
   "execution_count": 40,
   "metadata": {
    "collapsed": false
   },
   "outputs": [],
   "source": [
    "df_train, df_test = load_Dataset(\"test\")\n",
    "X_train, X_test = feature_extraction(df_train, df_test)"
   ]
  },
  {
   "cell_type": "code",
   "execution_count": 41,
   "metadata": {
    "collapsed": false
   },
   "outputs": [],
   "source": [
    "clf = classify_train(\"ensemble\", X_train, df_train.Insult)"
   ]
  },
  {
   "cell_type": "code",
   "execution_count": 42,
   "metadata": {
    "collapsed": false
   },
   "outputs": [
    {
     "name": "stdout",
     "output_type": "stream",
     "text": [
      "0.606060606061\n"
     ]
    }
   ],
   "source": [
    "predictions = classify_predict(clf, X_test)\n",
    "print(check_val_score(predictions, df_test.Insult))"
   ]
  },
  {
   "cell_type": "code",
   "execution_count": 32,
   "metadata": {
    "collapsed": false
   },
   "outputs": [
    {
     "name": "stdout",
     "output_type": "stream",
     "text": [
      "             precision    recall  f1-score   support\n",
      "\n",
      "          0       0.00      0.00      0.00         0\n",
      "          1       1.00      0.62      0.77       693\n",
      "\n",
      "avg / total       1.00      0.62      0.77       693\n",
      "\n"
     ]
    },
    {
     "name": "stderr",
     "output_type": "stream",
     "text": [
      "/Users/NiaVivek/anaconda/lib/python3.5/site-packages/sklearn/metrics/classification.py:1115: UndefinedMetricWarning: Recall and F-score are ill-defined and being set to 0.0 in labels with no true samples.\n",
      "  'recall', 'true', average, warn_for)\n"
     ]
    }
   ],
   "source": [
    "print(classification_report(df_test.Insult, predictions, target_names=lables))"
   ]
  },
  {
   "cell_type": "markdown",
   "metadata": {},
   "source": [
    "### SOME USEFUL CODE"
   ]
  },
  {
   "cell_type": "markdown",
   "metadata": {
    "collapsed": true
   },
   "source": [
    "### Code for stratified dataset"
   ]
  },
  {
   "cell_type": "markdown",
   "metadata": {},
   "source": [
    "This code can be used to determine the best model as there is class imbalance."
   ]
  },
  {
   "cell_type": "code",
   "execution_count": null,
   "metadata": {
    "collapsed": true
   },
   "outputs": [],
   "source": [
    "data_set = pd.read_csv(\"train.csv\")\n",
    "skf = StratifiedKFold(data_set.Insult,n_folds=3)\n",
    "accuracy = 0\n",
    "best_model = None\n",
    "prediction = None\n",
    "y = None\n",
    "for train_index, test_index in skf:\n",
    "    X_train, X_test = data_set.Comment[train_index], data_set.Comment[test_index]\n",
    "    y_train,y_test = data_set.Insult[train_index], data_set.Insult[test_index]\n",
    "    # Drop any resulting nan values\n",
    "    X_train.dropna(inplace=True)\n",
    "    y_train.dropna(inplace=True)\n",
    "    X_test.dropna(inplace=True)\n",
    "    y_test.dropna(inplace=True)\n",
    "    # Train model using created datasets\n",
    "    best_clf.fit(X_train, y_train)\n",
    "    print('Trained model on new train dataset.')\n",
    "    # Predict on test\n",
    "    predicted = best_clf.predict(X_test)\n",
    "    print('Accuracy on test dataset: ')\n",
    "    test_accuracy = accuracy_score(y_test,predicted)\n",
    "    print(test_accuracy)\n",
    "    \n",
    "    # Save models and accuracy so that we can use it later\n",
    "    if (test_accuracy > accuracy):\n",
    "        accuracy = test_accuracy\n",
    "        best_model = best_clf\n",
    "        prediction = predicted\n",
    "        y = y_test"
   ]
  },
  {
   "cell_type": "markdown",
   "metadata": {},
   "source": [
    "### Sample Code for hyperparameters testing"
   ]
  },
  {
   "cell_type": "markdown",
   "metadata": {},
   "source": [
    "You can use this code to determine hyperparameters for the classifiers using GridSearch"
   ]
  },
  {
   "cell_type": "code",
   "execution_count": null,
   "metadata": {
    "collapsed": true
   },
   "outputs": [],
   "source": [
    "best_clf_hyp = Pipeline([('vect', TfidfVectorizer(tokenizer=build_tokens,ngram_range=(1, 3)\n",
    "                                              , min_df=8\n",
    "                      ,stop_words=stopwords.words('english'),max_features=5000)),\n",
    "                     ('tfidf', TfidfTransformer(use_idf=True)),\n",
    "                     ('clf', SGDClassifier(loss='modified_huber', penalty='elasticnet',alpha=0.0001, n_iter=10, random_state=42)), ])"
   ]
  },
  {
   "cell_type": "code",
   "execution_count": null,
   "metadata": {
    "collapsed": true
   },
   "outputs": [],
   "source": [
    "parameters = {'vect__ngram_range': [(1, 3)],'vect__min_df':[5,8],'tfidf__use_idf': [True],'clf__alpha': [1e-3,1e-4]\n",
    "              ,'clf__n_iter':(1000,2000),}\n",
    "gs_clf = GridSearchCV(best_clf_hyp, parameters, n_jobs=-1)"
   ]
  },
  {
   "cell_type": "code",
   "execution_count": null,
   "metadata": {
    "collapsed": true
   },
   "outputs": [],
   "source": [
    "gs_clf = gs_clf.fit(df_train.Comment,df_train.Insult)"
   ]
  },
  {
   "cell_type": "code",
   "execution_count": null,
   "metadata": {
    "collapsed": true
   },
   "outputs": [],
   "source": [
    "print('Best score:',gs_clf.best_score_)\n",
    "for param_name in sorted(parameters.keys()):\n",
    "    print(\"%s: %r\" % (param_name, gs_clf.best_params_[param_name]))"
   ]
  }
 ],
 "metadata": {
  "anaconda-cloud": {},
  "kernelspec": {
   "display_name": "Python [Root]",
   "language": "python",
   "name": "Python [Root]"
  },
  "language_info": {
   "codemirror_mode": {
    "name": "ipython",
    "version": 3
   },
   "file_extension": ".py",
   "mimetype": "text/x-python",
   "name": "python",
   "nbconvert_exporter": "python",
   "pygments_lexer": "ipython3",
   "version": "3.5.2"
  }
 },
 "nbformat": 4,
 "nbformat_minor": 0
}
