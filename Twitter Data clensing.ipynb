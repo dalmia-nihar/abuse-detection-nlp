{
 "cells": [
  {
   "cell_type": "code",
   "execution_count": 13,
   "metadata": {
    "collapsed": false
   },
   "outputs": [],
   "source": [
    "import re, collections\n",
    "from nltk.corpus import words as w\n",
    "\n",
    "\n",
    "def words(text):\n",
    "    return re.findall('[a-z]+', text.lower())\n",
    "\n",
    "def train(features):\n",
    "    model = collections.defaultdict(lambda: 1)\n",
    "    for f in features:\n",
    "        model[f] += 1   \n",
    "    return model\n",
    "\n",
    "with open(\"big.txt\", \"r\") as big:\n",
    "    word_corpus = big.read()\n",
    "for word in w.words():\n",
    "    word_corpus += word\n",
    "    \n",
    "\n",
    "NWORDS = train(words(word_corpus))\n",
    "with open(\"list_of_abuses.txt\", \"r\") as abuse_list:\n",
    "    abuses = abuse_list.read().split()\n",
    "    for abuse in abuses:\n",
    "        NWORDS[abuse] = 100\n",
    "\n",
    "alphabet = 'abcdefghijklmnopqrstuvwxyz'\n",
    "\n",
    "def edits1(word):\n",
    "#     print(word)\n",
    "    s = [(word[:i], word[i:]) for i in range(len(word) + 1)]\n",
    "    deletes    = [a + b[1:] for a, b in s if b]\n",
    "    transposes = [a + b[1] + b[0] + b[2:] for a, b in s if len(b)>1]\n",
    "    replaces   = [a + c + b[1:] for a, b in s for c in alphabet if b]\n",
    "    inserts    = [a + c + b     for a, b in s for c in alphabet]\n",
    "    return set(deletes + transposes + replaces + inserts)\n",
    "\n",
    "def known_edits2(word):\n",
    "    return set(e2 for e1 in edits1(word) for e2 in edits1(e1) if e2 in NWORDS)\n",
    "\n",
    "def known(words):\n",
    "    try:\n",
    "        return [int(w) for w in words] #to take care of purely numeric words\n",
    "    except:\n",
    "        return set(w for w in words if w.lower() in NWORDS)\n",
    "\n",
    "def correct(word):\n",
    "    if word[0] not in alphabet: \n",
    "        return word\n",
    "    else:\n",
    "        word = re.sub(r'(.)\\1+', r'\\1\\1', word)\n",
    "        candidates = known([word]) or known(edits1(word)) or known_edits2(word) or [word]\n",
    "        return max(candidates, key=NWORDS.get)"
   ]
  },
  {
   "cell_type": "code",
   "execution_count": null,
   "metadata": {
    "collapsed": true
   },
   "outputs": [],
   "source": []
  },
  {
   "cell_type": "code",
   "execution_count": 14,
   "metadata": {
    "collapsed": false
   },
   "outputs": [
    {
     "name": "stdout",
     "output_type": "stream",
     "text": [
      "['RT', '@marcobonzanini', ':', 'just', 'an', 'example', '!', ':D', 'http://example.com', '#NLP']\n"
     ]
    }
   ],
   "source": [
    "emoticons_str = r\"\"\"\n",
    "    (?:\n",
    "        [:=;] # Eyes\n",
    "        [oO\\-]? # Nose (optional)\n",
    "        [D\\)\\]\\(\\]/\\\\OpP] # Mouth\n",
    "    )\"\"\"\n",
    " \n",
    "regex_str = [\n",
    "    emoticons_str,\n",
    "    r'<[^>]+>', # HTML tags\n",
    "    r'(?:@[\\w_]+)', # @-mentions\n",
    "    r\"(?:\\#+[\\w_]+[\\w\\'_\\-]*[\\w_]+)\", # hash-tags\n",
    "    r'http[s]?://(?:[a-z]|[0-9]|[$-_@.&amp;+]|[!*\\(\\),]|(?:%[0-9a-f][0-9a-f]))+', # URLs\n",
    " \n",
    "    r'(?:(?:\\d+,?)+(?:\\.?\\d+)?)', # numbers\n",
    "    r\"(?:[a-z][a-z'\\-_]+[a-z])\", # words with - and '\n",
    "    r'(?:[\\w!@#$%^&*]+)', # To group symbols together\n",
    "    r'(?:[\\w_]+)', # other words\n",
    "    \n",
    "    r'(?:\\S)' # anything else\n",
    "]\n",
    "    \n",
    "tokens_re = re.compile(r'('+'|'.join(regex_str)+')', re.VERBOSE | re.IGNORECASE)\n",
    "emoticon_re = re.compile(r'^'+emoticons_str+'$', re.VERBOSE | re.IGNORECASE)\n",
    " \n",
    "def tokenize(s):\n",
    "    tokens = tokens_re.findall(s)\n",
    "    for i in range(len(tokens)):\n",
    "        clean_token = correct(tokens[i])\n",
    "        tokens[i] = clean_token\n",
    "    return tokens\n",
    " \n",
    "def preprocess(s, lowercase=False):\n",
    "    tokens = tokenize(s)\n",
    "    if lowercase:\n",
    "        tokens = [token if emoticon_re.search(token) else token.lower() for token in tokens]\n",
    "    return tokens\n",
    " \n",
    "tweet = 'RT @marcobonzanini: just an example! :D http://example.com #NLP'\n",
    "print(preprocess(tweet))"
   ]
  },
  {
   "cell_type": "code",
   "execution_count": 15,
   "metadata": {
    "collapsed": false
   },
   "outputs": [
    {
     "data": {
      "text/plain": [
       "['Your', 'a', 'retard', 'go', 'post', 'your', 'head', 'up', 'your', 'fuck']"
      ]
     },
     "execution_count": 15,
     "metadata": {},
     "output_type": "execute_result"
    }
   ],
   "source": [
    "tweet2 = \"Your a retard go post your head up your f*ck\"\n",
    "preprocess(tweet2)"
   ]
  },
  {
   "cell_type": "code",
   "execution_count": 9,
   "metadata": {
    "collapsed": false
   },
   "outputs": [
    {
     "data": {
      "text/plain": [
       "['You',\n",
       " 'are',\n",
       " 'a',\n",
       " 'fuckin',\n",
       " 'moron',\n",
       " '.',\n",
       " 'You',\n",
       " 'are',\n",
       " 'just',\n",
       " 'butthurt',\n",
       " 'that',\n",
       " 'you',\n",
       " 'got',\n",
       " 'rejected',\n",
       " 'on',\n",
       " 'WIkipedia',\n",
       " '.',\n",
       " 'Call',\n",
       " 'yourself',\n",
       " 'solar',\n",
       " 'or',\n",
       " 'whatever',\n",
       " '.',\n",
       " 'I',\n",
       " 'am',\n",
       " 'better',\n",
       " 'than',\n",
       " 'you',\n",
       " ',',\n",
       " 'just',\n",
       " '14',\n",
       " 'and',\n",
       " 'already',\n",
       " 'a',\n",
       " 'Wikipedia',\n",
       " 'administrator',\n",
       " '.',\n",
       " 'You',\n",
       " 'are',\n",
       " 'just',\n",
       " 'a',\n",
       " 'stupid',\n",
       " 'asshole',\n",
       " '.']"
      ]
     },
     "execution_count": 9,
     "metadata": {},
     "output_type": "execute_result"
    }
   ],
   "source": [
    "tweet3 = \"You are\\xa0 a fukin moron. \\xa0\\xa0 You are just butthurt that you got rejected on WIkipedia.\\n\\n Call yoursilf scolar or whatever.\\xa0 I am better than you,\\xa0 just 14 and already a Wikipedia administrator.\\xa0 You are just a stupid ashole.\"\n",
    "preprocess(tweet3)"
   ]
  },
  {
   "cell_type": "code",
   "execution_count": null,
   "metadata": {
    "collapsed": false
   },
   "outputs": [],
   "source": []
  },
  {
   "cell_type": "code",
   "execution_count": 12,
   "metadata": {
    "collapsed": false
   },
   "outputs": [
    {
     "data": {
      "text/plain": [
       "['hello', ',', 'I', 'am', 'so', 'happy', '999999']"
      ]
     },
     "execution_count": 12,
     "metadata": {},
     "output_type": "execute_result"
    }
   ],
   "source": [
    "tweet4 = \"heeellllooooo, I am soooooo haaaaaaappppppyyyyy 999999 \"\n",
    "preprocess(tweet4)"
   ]
  },
  {
   "cell_type": "code",
   "execution_count": null,
   "metadata": {
    "collapsed": false
   },
   "outputs": [],
   "source": []
  },
  {
   "cell_type": "code",
   "execution_count": 24,
   "metadata": {
    "collapsed": false
   },
   "outputs": [
    {
     "data": {
      "text/plain": [
       "['FANS',\n",
       " 'ARE',\n",
       " 'SOOOO',\n",
       " 'BLIND',\n",
       " 'DUMB',\n",
       " '.',\n",
       " 'left',\n",
       " 'handed',\n",
       " 'game',\n",
       " 'to',\n",
       " 'spurs',\n",
       " '?',\n",
       " '?',\n",
       " '?',\n",
       " 'THUNDER',\n",
       " 'MADE',\n",
       " 'two',\n",
       " 'more',\n",
       " 'free',\n",
       " 'throws',\n",
       " 'than',\n",
       " 'the',\n",
       " 'spurs',\n",
       " '(',\n",
       " '19',\n",
       " 'to',\n",
       " '17',\n",
       " ')',\n",
       " 'AND',\n",
       " 'SPURS',\n",
       " 'STILL',\n",
       " 'WON',\n",
       " '!',\n",
       " 'shut',\n",
       " 'it',\n",
       " 'waters']"
      ]
     },
     "execution_count": 24,
     "metadata": {},
     "output_type": "execute_result"
    }
   ],
   "source": [
    "t5 = \"FANS ARE SOOOO BLIND DUMB. refs handed game to spurs??? THUNDER MADE two more free throws than the spurs (19 to 17) AND SPURS STILL WON! shut it haters\"\n",
    "preprocess(t5)"
   ]
  },
  {
   "cell_type": "code",
   "execution_count": null,
   "metadata": {
    "collapsed": false
   },
   "outputs": [],
   "source": []
  },
  {
   "cell_type": "code",
   "execution_count": 21,
   "metadata": {
    "collapsed": false
   },
   "outputs": [
    {
     "data": {
      "text/plain": [
       "False"
      ]
     },
     "execution_count": 21,
     "metadata": {},
     "output_type": "execute_result"
    }
   ],
   "source": [
    "\"mom\" in w.words()"
   ]
  },
  {
   "cell_type": "code",
   "execution_count": null,
   "metadata": {
    "collapsed": true
   },
   "outputs": [],
   "source": []
  }
 ],
 "metadata": {
  "anaconda-cloud": {},
  "kernelspec": {
   "display_name": "Python [conda root]",
   "language": "python",
   "name": "conda-root-py"
  },
  "language_info": {
   "codemirror_mode": {
    "name": "ipython",
    "version": 3
   },
   "file_extension": ".py",
   "mimetype": "text/x-python",
   "name": "python",
   "nbconvert_exporter": "python",
   "pygments_lexer": "ipython3",
   "version": "3.5.2"
  }
 },
 "nbformat": 4,
 "nbformat_minor": 1
}
