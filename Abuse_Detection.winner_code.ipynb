{
 "cells": [
  {
   "cell_type": "markdown",
   "metadata": {},
   "source": [
    "### Imports"
   ]
  },
  {
   "cell_type": "code",
   "execution_count": 1,
   "metadata": {
    "collapsed": false
   },
   "outputs": [],
   "source": [
    "import pandas as pd\n",
    "import nltk, re, string\n",
    "import numpy as np\n",
    "\n",
    "from sklearn.feature_extraction.text import TfidfVectorizer\n",
    "from sklearn.feature_extraction.text import TfidfTransformer\n",
    "from sklearn.feature_extraction.text import CountVectorizer\n",
    "from sklearn.feature_selection import SelectKBest, chi2\n",
    "import scipy.sparse as sp\n",
    "from sklearn import svm\n",
    "from nltk.corpus import stopwords\n",
    "\n",
    "from sklearn import linear_model\n",
    "from sklearn.naive_bayes import MultinomialNB\n",
    "from sklearn.neural_network import MLPClassifier\n",
    "\n",
    "from sklearn.metrics import confusion_matrix\n",
    "import sklearn.metrics as metrics\n",
    "import itertools\n",
    "%matplotlib inline\n",
    "import matplotlib.pyplot as plt\n",
    "from sklearn.ensemble import VotingClassifier"
   ]
  },
  {
   "cell_type": "markdown",
   "metadata": {},
   "source": [
    "### Preprocess Data"
   ]
  },
  {
   "cell_type": "markdown",
   "metadata": {},
   "source": [
    "Read the csv file and make a dataframe.\n",
    "- For training: Randomize and Divide it into 80:20 partitions"
   ]
  },
  {
   "cell_type": "code",
   "execution_count": 2,
   "metadata": {
    "collapsed": true
   },
   "outputs": [],
   "source": [
    "def load_Dataset(run=\"train\"):\n",
    "    df = pd.read_csv(\"train.csv\")\n",
    "    df = df[df[\"Comment\"].notnull()]\n",
    "    df.apply(np.random.permutation)\n",
    "    if run==\"train\":\n",
    "        df_train = df[:round(0.8*len(df))]\n",
    "        df_test = df[round(0.8*len(df)):]\n",
    "    elif run==\"test\":\n",
    "        df_train = df\n",
    "        df_test = pd.read_csv(\"impermium_verification_labels.csv\")\n",
    "    return df_train, df_test"
   ]
  },
  {
   "cell_type": "markdown",
   "metadata": {},
   "source": [
    "### Tokenization"
   ]
  },
  {
   "cell_type": "markdown",
   "metadata": {},
   "source": [
    "This function takes a text and does the following to return the tokens:\n",
    "* Use nltk's TweetTokenizer to get tokens\n",
    "* Use wordNetLemmatizer for lemmatization\n",
    "* Use porterStemmer to stem the resulting tokens"
   ]
  },
  {
   "cell_type": "code",
   "execution_count": 3,
   "metadata": {
    "collapsed": true
   },
   "outputs": [],
   "source": [
    "def build_tokens(text):\n",
    "    tweetTokenizer = nltk.tokenize.TweetTokenizer(strip_handles=True, reduce_len=True)\n",
    "    tokens = tweetTokenizer.tokenize(text)\n",
    "    tokens = [nltk.WordNetLemmatizer().lemmatize(token) for token in tokens]\n",
    "    tokens= [nltk.PorterStemmer().stem(token) for token in tokens]\n",
    "    return tokens"
   ]
  },
  {
   "cell_type": "markdown",
   "metadata": {},
   "source": [
    "### Feature Extraction"
   ]
  },
  {
   "cell_type": "code",
   "execution_count": 4,
   "metadata": {
    "collapsed": true
   },
   "outputs": [],
   "source": [
    "#fn to load the bad words file which will be used to normalize the text\n",
    "def loadBW():\n",
    "    f = open(\"badwords.txt\", \"r\")\n",
    "    bwMap = dict()\n",
    "    for line in f:\n",
    "        sp = line.strip().lower().split(\",\")\n",
    "        if len(sp) == 2:\n",
    "            bwMap[sp[0].strip()] = sp[1].strip()\n",
    "    return bwMap\n",
    "\n",
    "#fn to preprocess and normalize the text\n",
    "def normalize(f):\n",
    "    f = [x.lower() for x in f]\n",
    "    f = [x.replace(\"\\\\n\",\" \") for x in f]\n",
    "    f = [x.replace(\"\\\\t\",\" \") for x in f]\n",
    "    f = [x.replace(\"\\\\xa0\",\" \") for x in f]\n",
    "    f = [x.replace(\"\\\\xc2\",\" \") for x in f]\n",
    "\n",
    "    #f = [x.replace(\",\",\" \").replace(\".\",\" \").replace(\" \", \"  \") for x in f]\n",
    "    #f = [re.subn(\" ([a-z]) \",\"\\\\1\", x)[0] for x in f]\n",
    "    #f = [x.replace(\"  \",\" \") for x in f]\n",
    "\n",
    "    f = [x.replace(\" u \",\" you \") for x in f]\n",
    "    f = [x.replace(\" em \",\" them \") for x in f]\n",
    "    f = [x.replace(\" da \",\" the \") for x in f]\n",
    "    f = [x.replace(\" yo \",\" you \") for x in f]\n",
    "    f = [x.replace(\" ur \",\" you \") for x in f]\n",
    "    #f = [x.replace(\" ur \",\" your \") for x in f]\n",
    "    #f = [x.replace(\" ur \",\" you're \") for x in f]\n",
    "\n",
    "    f = [x.replace(\"won't\", \"will not\") for x in f]\n",
    "    f = [x.replace(\"can't\", \"cannot\") for x in f]\n",
    "    f = [x.replace(\"i'm\", \"i am\") for x in f]\n",
    "    f = [x.replace(\" im \", \" i am \") for x in f]\n",
    "    f = [x.replace(\"ain't\", \"is not\") for x in f]\n",
    "    f = [x.replace(\"'ll\", \" will\") for x in f]\n",
    "    f = [x.replace(\"'t\", \" not\") for x in f]\n",
    "    f = [x.replace(\"'ve\", \" have\") for x in f]\n",
    "    f = [x.replace(\"'s\", \" is\") for x in f]\n",
    "    f = [x.replace(\"'re\", \" are\") for x in f]\n",
    "    f = [x.replace(\"'d\", \" would\") for x in f]\n",
    "\n",
    "    #f = [x.replace(\"outta\", \"out of\") for x in f]\n",
    "\n",
    "    bwMap = loadBW()\n",
    "    for key, value in bwMap.items():\n",
    "        kpad = \" \" + key + \" \"\n",
    "        vpad = \" \" + value + \" \"\n",
    "        f = [x.replace(kpad, vpad) for x in f]\n",
    "\n",
    "    # stemming\n",
    "    f = [re.subn(\"ies( |$)\", \"y \", x)[0].strip() for x in f]\n",
    "    #f = [re.subn(\"([abcdefghijklmnopqrstuvwxyz])s( |$)\", \"\\\\1 \", x)[0].strip() for x in f]\n",
    "    f = [re.subn(\"s( |$)\", \" \", x)[0].strip() for x in f]\n",
    "    f = [re.subn(\"ing( |$)\", \" \", x)[0].strip() for x in f]\n",
    "    f = [x.replace(\"tard \", \" \") for x in f]\n",
    "\n",
    "    f = [re.subn(\" [*$%&#@][*$%&#@]+\",\" xexp \", x)[0].strip() for x in f]\n",
    "    f = [re.subn(\" [0-9]+ \",\" DD \", x)[0].strip() for x in f]\n",
    "    f = [re.subn(\"<\\S*>\",\"\", x)[0].strip() for x in f]\n",
    "    return f"
   ]
  },
  {
   "cell_type": "code",
   "execution_count": 5,
   "metadata": {
    "collapsed": true
   },
   "outputs": [],
   "source": [
    "# create tfidf vectors with ch2 selection\n",
    "def ngrams(train, test, mn=1, mx=1, nm=500, analyzer_char=False, do_norm=False):\n",
    "    if do_norm:\n",
    "        train = normalize(train)\n",
    "\n",
    "    analyzer_type = 'word'\n",
    "    if analyzer_char:\n",
    "        analyzer_type = 'char'\n",
    "    \n",
    "    vectorizer = TfidfVectorizer(ngram_range=(mx,mn),sublinear_tf=True,analyzer=analyzer_type)\n",
    "\n",
    "    X_train = vectorizer.fit_transform(train)\n",
    "    X_test = vectorizer.transform(test)\n",
    "\n",
    "    if nm < X_train.shape[1]:\n",
    "        ch2 = SelectKBest(chi2, k=nm)\n",
    "        X_train = ch2.fit_transform(X_train, train)\n",
    "        X_test = ch2.transform(X_test)\n",
    "\n",
    "    return X_train, X_test\n",
    "\n",
    "# ngrams for the word following \"you are\"\n",
    "def specialCases(train, test):\n",
    "    g = [x.lower().replace(\"you are\",\" SSS \").replace(\"you're\",\" SSS \").replace(\" ur \", \" SSS \").split(\"SSS\")[1:] for x in train]\n",
    "\n",
    "    f = []\n",
    "    for x in g:\n",
    "        fts = \" \"\n",
    "        x = normalize(x)\n",
    "        for y in x:\n",
    "            w = y.strip().replace(\"?\",\".\").split(\".\")\n",
    "            fts = fts + \" \" + w[0]\n",
    "        f.append(fts)\n",
    "\n",
    "    X_train, X_test = ngrams(train, test, 1, 1, 100, do_norm=True)\n",
    "    return X_train, X_test\n"
   ]
  },
  {
   "cell_type": "code",
   "execution_count": 6,
   "metadata": {
    "collapsed": true
   },
   "outputs": [],
   "source": [
    "# tfidf feature extraction and chi2 selection\n",
    "def feature_extraction(df_train, df_test):\n",
    "    #vectorizer = TfidfVectorizer(sublinear_tf=True, ngram_range=(1,3), max_df= 0.5, analyzer= \"word\", tokenizer= build_tokens ,min_df=10,max_features=10000) #current best for max_features = 4000   \n",
    "\n",
    "    X_train1, X_test1 = ngrams(df_train[\"Comment\"], df_test[\"Comment\"], 1, 1, 2000)\n",
    "    X_train2, X_test2 = ngrams(df_train[\"Comment\"], df_test[\"Comment\"], 2, 2, 4000)\n",
    "    X_train3, X_test3 = ngrams(df_train[\"Comment\"], df_test[\"Comment\"], 3, 3, 100)\n",
    "    X_train4, X_test4 = ngrams(df_train[\"Comment\"], df_test[\"Comment\"], 4, 4, 1000, analyzer_char = True)\n",
    "    X_train5, X_test5 = ngrams(df_train[\"Comment\"], df_test[\"Comment\"], 5, 5, 1000, analyzer_char = True)\n",
    "    X_train6, X_test6 = ngrams(df_train[\"Comment\"], df_test[\"Comment\"], 3, 3, 2000, analyzer_char = True)\n",
    "\n",
    "    X_train7, X_test7 = specialCases(df_train[\"Comment\"], df_test[\"Comment\"])\n",
    "\n",
    "    X_train = sp.hstack([X_train1, X_train2, X_train3, X_train4, X_train5, X_train6, X_train7])\n",
    "    X_test = sp.hstack([X_test1,  X_test2,  X_test3, X_test4, X_test5, X_test6, X_test7])\n",
    "    \n",
    "    return X_train, X_test"
   ]
  },
  {
   "cell_type": "markdown",
   "metadata": {},
   "source": [
    "### Classifier"
   ]
  },
  {
   "cell_type": "code",
   "execution_count": 10,
   "metadata": {
    "collapsed": false
   },
   "outputs": [],
   "source": [
    "def classify_train(clf_type, X_train, train_category):\n",
    "    if clf_type == \"logreg\":\n",
    "        #logreg = linear_model.LogisticRegression(tol=1e-8, penalty='l2', C=4, max_iter=1000)\n",
    "        logreg = linear_model.LogisticRegression(C=8.25, max_iter=3000, tol=1e-8)\n",
    "        logreg.fit(X_train, train_category)\n",
    "        return logreg\n",
    "    elif clf_type == \"svm_rbf\":\n",
    "        clf = svm.SVC(kernel='rbf', gamma=0.8, C=1, decision_function_shape=\"ovr\", probability=True)\n",
    "        clf.fit(X_train, train_category)\n",
    "        return clf\n",
    "    elif clf_type == \"svm_linear\":\n",
    "        clf = svm.SVC(kernel = 'linear', probability = True)\n",
    "        clf.fit(X_train, train_category)\n",
    "        return clf\n",
    "    elif clf_type == \"sgd\":\n",
    "        clf = linear_model.SGDClassifier(n_iter=2000,loss = 'modified_huber', penalty = 'elasticnet', n_jobs=-1)\n",
    "        clf.fit(X_train,train_category)\n",
    "        return clf\n",
    "    elif clf_type == \"nb\":\n",
    "        clf = MultinomialNB()\n",
    "        clf.fit(X_train,train_category)\n",
    "        return clf\n",
    "    elif clf_type == \"nn\":\n",
    "        clf = MLPClassifier(solver='adam', alpha=1e-5,hidden_layer_sizes=(500,150), max_iter=50000, random_state=1)\n",
    "        clf.fit(X_train,train_category)\n",
    "        return clf\n",
    "    # ensemble of different classifiers. We used a soft voting measure to combine the output\n",
    "    elif clf_type == \"ensemble\":\n",
    "        clf1 = linear_model.LogisticRegression(C=3)\n",
    "        clf3 = svm.SVC(C=0.3,kernel='linear',probability=True)\n",
    "        #clf4 = linear_model.SGDClassifier(n_iter=2000,loss = 'modified_huber', penalty = 'elasticnet', n_jobs=-1)\n",
    "        eclf = VotingClassifier(estimators=[('lr',clf1),('svm_rbf',clf3)], voting=\"soft\")\n",
    "        eclf = eclf.fit(X_train,train_category)\n",
    "        return eclf"
   ]
  },
  {
   "cell_type": "markdown",
   "metadata": {},
   "source": [
    "##### This function takes a trained classifier and a set of features as input and returns the prediction of the classifier"
   ]
  },
  {
   "cell_type": "code",
   "execution_count": 11,
   "metadata": {
    "collapsed": true
   },
   "outputs": [],
   "source": [
    "def classify_predict(clf, X_test):\n",
    "    predictions = clf.predict(X_test)\n",
    "    return predictions\n",
    "\n",
    "def check_val_score(predictions, true_vals):\n",
    "    return metrics.accuracy_score(true_vals,predictions)"
   ]
  },
  {
   "cell_type": "markdown",
   "metadata": {},
   "source": [
    "## Getting it all together"
   ]
  },
  {
   "cell_type": "markdown",
   "metadata": {},
   "source": [
    "### Validation run"
   ]
  },
  {
   "cell_type": "code",
   "execution_count": 12,
   "metadata": {
    "collapsed": false
   },
   "outputs": [],
   "source": [
    "df_train, df_test = load_Dataset()\n",
    "X_train, X_test = feature_extraction(df_train, df_test)\n",
    "clf = classify_train(\"ensemble\", X_train, df_train.Insult)"
   ]
  },
  {
   "cell_type": "code",
   "execution_count": null,
   "metadata": {
    "collapsed": false
   },
   "outputs": [],
   "source": [
    "predictions = classify_predict(clf, X_test)\n",
    "print(check_val_score(predictions, df_test.Insult))"
   ]
  },
  {
   "cell_type": "markdown",
   "metadata": {},
   "source": [
    "### Final run "
   ]
  },
  {
   "cell_type": "code",
   "execution_count": null,
   "metadata": {
    "collapsed": false
   },
   "outputs": [],
   "source": [
    "df_train, df_test = load_Dataset(\"test\")\n",
    "X_train, X_test = feature_extraction(df_train, df_test)"
   ]
  },
  {
   "cell_type": "code",
   "execution_count": null,
   "metadata": {
    "collapsed": false
   },
   "outputs": [],
   "source": [
    "clf = classify_train(\"ensemble\", X_train, df_train.Insult)\n"
   ]
  },
  {
   "cell_type": "code",
   "execution_count": null,
   "metadata": {
    "collapsed": false
   },
   "outputs": [],
   "source": [
    "predictions = classify_predict(clf, X_test)\n",
    "print(check_val_score(predictions, df_test.Insult))"
   ]
  }
 ],
 "metadata": {
  "anaconda-cloud": {},
  "kernelspec": {
   "display_name": "Python [conda root]",
   "language": "python",
   "name": "conda-root-py"
  },
  "language_info": {
   "codemirror_mode": {
    "name": "ipython",
    "version": 3
   },
   "file_extension": ".py",
   "mimetype": "text/x-python",
   "name": "python",
   "nbconvert_exporter": "python",
   "pygments_lexer": "ipython3",
   "version": "3.5.2"
  }
 },
 "nbformat": 4,
 "nbformat_minor": 0
}
