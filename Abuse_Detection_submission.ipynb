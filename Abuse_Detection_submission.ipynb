{
 "cells": [
  {
   "cell_type": "markdown",
   "metadata": {},
   "source": [
    "### Imports"
   ]
  },
  {
   "cell_type": "code",
   "execution_count": 104,
   "metadata": {
    "collapsed": false
   },
   "outputs": [],
   "source": [
    "import pandas as pd\n",
    "import nltk, re, string\n",
    "import numpy as np\n",
    "from scipy import sparse\n",
    "\n",
    "from sklearn.feature_extraction.text import TfidfVectorizer\n",
    "from sklearn.feature_extraction.text import TfidfTransformer\n",
    "from sklearn.feature_extraction.text import CountVectorizer\n",
    "\n",
    "from sklearn import preprocessing\n",
    "from sklearn import svm\n",
    "from nltk.corpus import stopwords\n",
    "\n",
    "from sklearn import linear_model\n",
    "from sklearn.metrics import accuracy_score\n",
    "from sklearn.metrics import confusion_matrix\n",
    "import sklearn.metrics as metrics\n",
    "import itertools\n",
    "from sklearn.metrics import classification_report\n",
    "from sklearn.pipeline import Pipeline, FeatureUnion\n",
    "from sklearn.base import BaseEstimator, TransformerMixin\n",
    "from nltk.sentiment.vader import SentimentIntensityAnalyzer\n",
    "from sklearn.model_selection import GridSearchCV\n",
    "from sklearn.model_selection import StratifiedKFold\n",
    "import re, collections\n",
    "from nltk.corpus import words as w\n",
    "import pickle\n",
    "from nltk.corpus import *\n",
    "from nltk.collocations import *\n",
    "from string import punctuation\n",
    "from nltk.corpus import wordnet as wn\n",
    "from nltk.stem import WordNetLemmatizer"
   ]
  },
  {
   "cell_type": "code",
   "execution_count": 28,
   "metadata": {
    "collapsed": true
   },
   "outputs": [],
   "source": [
    "%matplotlib inline"
   ]
  },
  {
   "cell_type": "markdown",
   "metadata": {},
   "source": [
    "## Algorithm used"
   ]
  },
  {
   "cell_type": "markdown",
   "metadata": {},
   "source": [
    "* Preprocess data, tokenize and lemmatize\n",
    "* Feature extraction - TF-IDF, word2vec and custom features added\n",
    "* Train on Linear SVM\n",
    "* Fit data and check accuracy"
   ]
  },
  {
   "cell_type": "markdown",
   "metadata": {},
   "source": [
    "### Preprocess Data"
   ]
  },
  {
   "cell_type": "markdown",
   "metadata": {},
   "source": [
    "Read the csv file and make a dataframe.\n",
    "- For training: Randomize and Divide it into 80:20 partitions"
   ]
  },
  {
   "cell_type": "code",
   "execution_count": 15,
   "metadata": {
    "collapsed": true
   },
   "outputs": [],
   "source": [
    "def load_Dataset(run=\"train\"):\n",
    "    df = pd.read_csv(\"train.csv\")\n",
    "    df = df[df[\"Comment\"].notnull()]\n",
    "    df.apply(np.random.permutation)\n",
    "    if run==\"train\":\n",
    "        df_train = df[:round(0.8*len(df))]\n",
    "        df_test = df[round(0.8*len(df)):]\n",
    "    elif run==\"test\":\n",
    "        df_train = df\n",
    "        df_test = pd.read_csv(\"test_with_solutions.csv\")\n",
    "    return df_train, df_test"
   ]
  },
  {
   "cell_type": "markdown",
   "metadata": {},
   "source": [
    "### Tokenization"
   ]
  },
  {
   "cell_type": "markdown",
   "metadata": {},
   "source": [
    "This function takes a text and does the following to return the tokens:\n",
    "* Use nltk's TweetTokenizer to get tokens\n",
    "* Use wordNetLemmatizer for lemmatization\n",
    "* Use porterStemmer to stem the resulting tokens"
   ]
  },
  {
   "cell_type": "code",
   "execution_count": 16,
   "metadata": {
    "collapsed": false
   },
   "outputs": [],
   "source": [
    "def words(text):\n",
    "    return re.findall('[a-z]+', text.lower())\n",
    "\n",
    "def train(features):\n",
    "    model = collections.defaultdict(lambda: 1)\n",
    "    for f in features:\n",
    "        model[f] += 1   \n",
    "    return model\n",
    "\n",
    "with open(\"big.txt\", \"r\") as big:\n",
    "    word_corpus = big.read()\n",
    "for word in w.words():\n",
    "    word_corpus += word\n",
    "    \n",
    "\n",
    "NWORDS = train(words(word_corpus))\n",
    "with open(\"list_of_abuses.txt\", \"r\") as abuse_list:\n",
    "    abuses = abuse_list.read().split()\n",
    "    for abuse in abuses:\n",
    "        NWORDS[abuse] = 100\n",
    "\n",
    "alphabet = 'abcdefghijklmnopqrstuvwxyz'\n",
    "\n",
    "def edits1(word):\n",
    "#     print(word)\n",
    "    s = [(word[:i], word[i:]) for i in range(len(word) + 1)]\n",
    "    deletes    = [a + b[1:] for a, b in s if b]\n",
    "    transposes = [a + b[1] + b[0] + b[2:] for a, b in s if len(b)>1]\n",
    "    replaces   = [a + c + b[1:] for a, b in s for c in alphabet if b]\n",
    "    inserts    = [a + c + b     for a, b in s for c in alphabet]\n",
    "    return set(deletes + transposes + replaces + inserts)\n",
    "\n",
    "def known_edits2(word):\n",
    "    return set(e2 for e1 in edits1(word) for e2 in edits1(e1) if e2 in NWORDS)\n",
    "\n",
    "def known(words):\n",
    "    try:\n",
    "        return [int(w) for w in words] #to take care of purely numeric words\n",
    "    except:\n",
    "        return set(w for w in words if w.lower() in NWORDS)\n",
    "\n",
    "def correct(word):\n",
    "    if word[0] not in alphabet: \n",
    "        return word\n",
    "    else:\n",
    "        word = re.sub(r'(.)\\1+', r'\\1\\1', word)\n",
    "        candidates = known([word]) or known(edits1(word)) or known_edits2(word) or [word]\n",
    "        return max(candidates, key=NWORDS.get)"
   ]
  },
  {
   "cell_type": "code",
   "execution_count": 17,
   "metadata": {
    "collapsed": true
   },
   "outputs": [],
   "source": [
    "emoticons_str = r\"\"\"\n",
    "    (?:\n",
    "        [:=;] # Eyes\n",
    "        [oO\\-]? # Nose (optional)\n",
    "        [D\\)\\]\\(\\]/\\\\OpP] # Mouth\n",
    "    )\"\"\"\n",
    " \n",
    "regex_str = [\n",
    "    emoticons_str,\n",
    "    r'<[^>]+>', # HTML tags\n",
    "    r'(?:@[\\w_]+)', # @-mentions\n",
    "    r\"(?:\\#+[\\w_]+[\\w\\'_\\-]*[\\w_]+)\", # hash-tags\n",
    "    r'http[s]?://(?:[a-z]|[0-9]|[$-_@.&amp;+]|[!*\\(\\),]|(?:%[0-9a-f][0-9a-f]))+', # URLs\n",
    " \n",
    "    r'(?:(?:\\d+,?)+(?:\\.?\\d+)?)', # numbers\n",
    "    r\"(?:[a-z][a-z'\\-_]+[a-z])\", # words with - and '\n",
    "    r'(?:[\\w!@#$%^&*]+)', # To group symbols together\n",
    "    r'(?:[\\w_]+)', # other words\n",
    "    \n",
    "    r'(?:\\S)' # anything else\n",
    "]\n",
    "    \n",
    "tokens_re = re.compile(r'('+'|'.join(regex_str)+')', re.VERBOSE | re.IGNORECASE)\n",
    "emoticon_re = re.compile(r'^'+emoticons_str+'$', re.VERBOSE | re.IGNORECASE)\n",
    " \n",
    "def tokenize(s):\n",
    "    tokens = tokens_re.findall(s)\n",
    "    for i in range(len(tokens)):\n",
    "        clean_token = correct(tokens[i])\n",
    "        tokens[i] = clean_token\n",
    "    return tokens\n",
    " \n",
    "def preprocess(word, lowercase=False):\n",
    "    tokens = tokenize(word)\n",
    "    if lowercase:\n",
    "        tokens = [token if emoticon_re.search(token) else token.lower() for token in tokens]\n",
    "    return tokens"
   ]
  },
  {
   "cell_type": "markdown",
   "metadata": {},
   "source": [
    "### Tokenization"
   ]
  },
  {
   "cell_type": "markdown",
   "metadata": {},
   "source": [
    "This function takes a text and does the following to return the tokens:\n",
    "* Custom tokenizer we came up with as above did not work well and we ended up using the tweettokenizer\n",
    "* Use nltk's TweetTokenizer to get tokens\n",
    "* Use wordNetLemmatizer for lemmatization\n",
    "* Use porterStemmer to stem the resulting tokens"
   ]
  },
  {
   "cell_type": "code",
   "execution_count": 18,
   "metadata": {
    "collapsed": false
   },
   "outputs": [],
   "source": [
    "def build_tokens(text):\n",
    "    tweetTokenizer = nltk.tokenize.TweetTokenizer(strip_handles=True, reduce_len=True)\n",
    "    tokens = tweetTokenizer.tokenize(text)\n",
    "    #tokens = preprocess(text, lowercase=True)\n",
    "    tokens = [nltk.WordNetLemmatizer().lemmatize(token) for token in tokens]\n",
    "    #tokens= [nltk.PorterStemmer().stem(token) for token in tokens]\n",
    "    return tokens\n"
   ]
  },
  {
   "cell_type": "markdown",
   "metadata": {},
   "source": [
    "Stemming and custom preprocessing reduced the accuracy. Tweettokenizer worked better. We also realized that making the tweets into lower case resulted in loss of emphasis and ended up preserving the case of the text."
   ]
  },
  {
   "cell_type": "markdown",
   "metadata": {},
   "source": [
    "## Pipeline and Adding Custom features"
   ]
  },
  {
   "cell_type": "markdown",
   "metadata": {},
   "source": [
    "#### Adding additional features"
   ]
  },
  {
   "cell_type": "markdown",
   "metadata": {},
   "source": [
    "This class does the following:\n",
    "* Few custom features are added\n",
    "* percentage of bad words in a sentence as listed in the bad words file\n",
    "* compound, negative and positive values from vader sentiment analysis\n",
    "* insults directed at a person using you are \"bad_word\" as a feature and not containing the word \"not\""
   ]
  },
  {
   "cell_type": "markdown",
   "metadata": {},
   "source": [
    "Ref: http://zacstewart.com/2014/08/05/pipelines-of-featureunions-of-pipelines.html"
   ]
  },
  {
   "cell_type": "code",
   "execution_count": 37,
   "metadata": {
    "collapsed": false
   },
   "outputs": [],
   "source": [
    "class AdditionalFeatureExtractor(BaseEstimator, TransformerMixin):\n",
    "\n",
    "    def __init__(self):\n",
    "        pass\n",
    "\n",
    "    def get_feature_names(self):\n",
    "        return (['vader_compound','vader_neg','vader_pos','vader_neu','ur_bad'])\n",
    "    \n",
    "    def num_bad(self, df):\n",
    "       \n",
    "        #get number of words in each sentence\n",
    "        with open(\"list_of_abuses.txt\", \"r\") as abuse_list:\n",
    "             abuses = abuse_list.read().split(\"\\n\")\n",
    "        num_words = [len(word) for word in df]\n",
    "        \n",
    "        #get percent of abusive words in each sentence\n",
    "        num_abuses = 0\n",
    "        for abuse in abuses:\n",
    "            num_abuses += 1\n",
    "        # number of badwords in list of abuses\n",
    "        num_bad = [np.sum([word.lower().count(abuse) for abuse in abuses])\n",
    "                                            for word in df]\n",
    "        norm_bad = np.array(num_bad) / np.array(num_words, dtype=np.float)\n",
    "        return norm_bad\n",
    "\n",
    "    def ur_bad(self, df):\n",
    "        \n",
    "        #look for you are \"bad words\" in text\n",
    "        with open(\"list_of_abuses.txt\", \"r\") as abuse_list:\n",
    "             abuses = abuse_list.read().split(\"\\n\")\n",
    "        ur_bad_bool = []\n",
    "        for sentence in df:\n",
    "            abuse_found = False\n",
    "            for words in abuses:\n",
    "                abuse = r'(\\b%s\\b)' %words\n",
    "                if (re.findall(r\"\\byou are\\b\",sentence.lower()) != []) and (re.findall(abuse,sentence.lower()) != []):\n",
    "                    if (re.findall(r\"\\bnot\\b\",sentence.lower()) == []):\n",
    "                        ur_bad_bool.append(True)\n",
    "                        abuse_found = True\n",
    "                        break\n",
    "                elif (re.findall(r\"\\bur\\b\",sentence.lower()) != []) and (re.findall(abuse,sentence.lower()) != []):\n",
    "                    if (re.findall(r\"\\bnot\\b\",sentence.lower()) == []):\n",
    "                        ur_bad_bool.append(True)\n",
    "                        abuse_found = True\n",
    "                        break\n",
    "                elif (re.findall(r\"\\byour\\b\",sentence.lower()) != []) and (re.findall(abuse,sentence.lower()) != []):\n",
    "                    if (re.findall(r\"\\bnot\\b\",sentence.lower()) == []):\n",
    "                        ur_bad_bool.append(True)\n",
    "                        abuse_found = True\n",
    "                        break\n",
    "                elif (re.findall(r\"\\byou're\\b\",sentence.lower()) != []) and (re.findall(abuse,sentence.lower()) != []):\n",
    "                    if (re.findall(r\"\\bnot\\b\",sentence.lower()) == []):\n",
    "                        ur_bad_bool.append(True)\n",
    "                        abuse_found = True\n",
    "                        break\n",
    "                elif (re.findall(r\"\\bu r\\b\",sentence.lower()) != []) and (re.findall(abuse,sentence.lower()) != []):\n",
    "                    if (re.findall(r\"\\bnot\\b\",sentence.lower()) == []):\n",
    "                        ur_bad_bool.append(True)\n",
    "                        abuse_found = True\n",
    "                        break\n",
    "            if abuse_found == False:\n",
    "                ur_bad_bool.append(False)            \n",
    "        return ur_bad_bool\n",
    "    \n",
    "    def num_words(self, df):\n",
    "        \n",
    "        #get number of words in each sentence\n",
    "        num_words = [len(word) for word in df]\n",
    "        return num_words\n",
    "    \n",
    "    def vader_helper(self, df):\n",
    "        \n",
    "        #vader analysis\n",
    "        sid = SentimentIntensityAnalyzer()\n",
    "        vader_feature = []\n",
    "        for sentence in df:\n",
    "            ss = sid.polarity_scores(sentence)\n",
    "            vader_feature.append(ss['compound'])\n",
    "        return vader_feature\n",
    "    \n",
    "    def vader_helper_neg(self, df):\n",
    "        \n",
    "        #vader analysis\n",
    "        sid = SentimentIntensityAnalyzer()\n",
    "        vader_feature = []\n",
    "        for sentence in df:\n",
    "            ss = sid.polarity_scores(sentence)\n",
    "            vader_feature.append(ss['neg'])\n",
    "        return vader_feature\n",
    "    \n",
    "    def vader_helper_neu(self, df):\n",
    "       \n",
    "        #vader analysis\n",
    "        sid = SentimentIntensityAnalyzer()\n",
    "        vader_feature = []\n",
    "        for sentence in df:\n",
    "            ss = sid.polarity_scores(sentence)\n",
    "            vader_feature.append(ss['neu'])\n",
    "        return vader_feature\n",
    "    \n",
    "    def vader_helper_pos(self, df):\n",
    "        #vader analysis\n",
    "        sid = SentimentIntensityAnalyzer()\n",
    "        vader_feature = []\n",
    "        for sentence in df:\n",
    "            ss = sid.polarity_scores(sentence)\n",
    "            vader_feature.append(ss['pos'])\n",
    "        return vader_feature\n",
    "    \n",
    "    def transform(self, df, y=None):\n",
    "        \n",
    "        #add all the features to an array\n",
    "        X = np.array([self.vader_helper(df),self.vader_helper_pos(df),self.vader_helper_neg(df),self.vader_helper_neu(df),self.ur_bad(df)]).T\n",
    "        if not hasattr(self, 'scalar'):\n",
    "            self.scalar = preprocessing.StandardScaler().fit(X)\n",
    "        return self.scalar.transform(X)      \n",
    "\n",
    "    def fit(self, df, y=None):\n",
    "        return self"
   ]
  },
  {
   "cell_type": "markdown",
   "metadata": {},
   "source": [
    "### This Function does the following:\n",
    "* To make Tweet Vector we take all tokens in a tweet and see if we have a word2vec for that word. We keep adding all these word vectors and take average to get a tweet vector\n",
    "* We are making our entire tweet into a 200 dimensional vector\n",
    "* We take our tfidf and word vectors and append them to get the final vector. Since these are of different scale, we are normalising the final vector"
   ]
  },
  {
   "cell_type": "code",
   "execution_count": 38,
   "metadata": {
    "collapsed": true
   },
   "outputs": [],
   "source": [
    "class Word2VecFeatureExtractor(BaseEstimator, TransformerMixin):\n",
    "\n",
    "    def __init__(self):\n",
    "        pass\n",
    "\n",
    "    def get_feature_names(self):\n",
    "        return (['word2vec'])\n",
    "    \n",
    "    def make_tweetVector(self, df_comments):\n",
    "        learned_word_vectors,learned_dictionary = pickle.load( open( \"glove_twitter_200d.pkl\", \"rb\" ) ) \n",
    "        tweetVector = np.zeros((len(df_comments),200),dtype='float')\n",
    "        count = 0 \n",
    "        for text in df_comments:\n",
    "            valids= 0\n",
    "            tokens = build_tokens(text)\n",
    "            rowVector = np.zeros(200,)\n",
    "            for token in tokens:\n",
    "                if token not in learned_dictionary:\n",
    "                    continue\n",
    "                else:\n",
    "                    valids+=1\n",
    "                    vec = learned_word_vectors[learned_dictionary[token.lower()]]\n",
    "                    rowVector = np.add(rowVector,vec)\n",
    "            tweetVector[count] = rowVector/valids\n",
    "            count+=1\n",
    "        return tweetVector\n",
    "    \n",
    "    def transform(self, df, y=None):     \n",
    "        #add both the features to an array\n",
    "        X = np.array(self.make_tweetVector(df))\n",
    "        if not hasattr(self, 'scalar'):\n",
    "            self.scalar = preprocessing.StandardScaler().fit(X)\n",
    "        return self.scalar.transform(X)      \n",
    "\n",
    "    def fit(self, df, y=None):\n",
    "        return self"
   ]
  },
  {
   "cell_type": "markdown",
   "metadata": {},
   "source": [
    "The custom features and Word2Vec features are stacked along with the features got from TF-IDF char and word analyzer. "
   ]
  },
  {
   "cell_type": "markdown",
   "metadata": {},
   "source": [
    "Most of the stop words could influence our results, so we removed only the articles. We found that considering 6-grams gave the best accuracy."
   ]
  },
  {
   "cell_type": "code",
   "execution_count": 206,
   "metadata": {
    "collapsed": false
   },
   "outputs": [],
   "source": [
    "stopwords = ['the','a','an']\n",
    "def all_features():\n",
    "    features = []\n",
    "    custom_features = AdditionalFeatureExtractor() # this class includes my custom features \n",
    "    \n",
    "    vect = TfidfVectorizer(sublinear_tf=True, ngram_range=(1,6), analyzer= \"char\", stop_words = stopwords, tokenizer= build_tokens)\n",
    "    vect1 = TfidfVectorizer(sublinear_tf=True, ngram_range=(1,6), analyzer= \"word\",stop_words = stopwords, tokenizer= build_tokens)\n",
    "    word2vec = Word2VecFeatureExtractor()\n",
    "    features.append(('ngram', vect))\n",
    "    features.append(('ngram1', vect1))\n",
    "    features.append(('word2vec',word2vec))\n",
    "    features.append(('custom_features', custom_features))\n",
    "    return features"
   ]
  },
  {
   "cell_type": "markdown",
   "metadata": {},
   "source": [
    "Using all the features rather than selected number of features gave a better accuracy."
   ]
  },
  {
   "cell_type": "markdown",
   "metadata": {},
   "source": [
    "SVM Linear classifier gives the best score - better than ensemble"
   ]
  },
  {
   "cell_type": "code",
   "execution_count": 207,
   "metadata": {
    "collapsed": true
   },
   "outputs": [],
   "source": [
    "def all_classifiers():\n",
    "    #clf1 = linear_model.LogisticRegression(C=3, max_iter=3000, tol=1e-8)\n",
    "    clf3 = svm.SVC(kernel='linear', gamma=1.2, C=1, decision_function_shape=\"ovo\",probability=True)\n",
    "    #clf4 = linear_model.SGDClassifier(n_iter=2000,loss = 'modified_huber', penalty = 'elasticnet',alpha=0.001, n_jobs=-1)\n",
    "    #eclf = VotingClassifier(estimators=[('lr',clf1),('svm_rbf',clf3), ('sgd' , clf4)], voting=\"soft\")\n",
    "    return clf3"
   ]
  },
  {
   "cell_type": "markdown",
   "metadata": {},
   "source": [
    "### Pipeline"
   ]
  },
  {
   "cell_type": "code",
   "execution_count": 208,
   "metadata": {
    "collapsed": false
   },
   "outputs": [],
   "source": [
    "from sklearn.feature_selection import SelectPercentile\n",
    "from sklearn.svm import LinearSVC\n",
    "from sklearn.decomposition import PCA\n",
    "best_clf = Pipeline([\n",
    "    ('all', FeatureUnion(all_features())),\n",
    "    ('linear',all_classifiers()),\n",
    "    ])"
   ]
  },
  {
   "cell_type": "markdown",
   "metadata": {},
   "source": [
    "The above pipeline calls the feature function and creates a featureunion of all the features discussed above."
   ]
  },
  {
   "cell_type": "markdown",
   "metadata": {},
   "source": [
    "### Training and predicting on split test set"
   ]
  },
  {
   "cell_type": "code",
   "execution_count": 209,
   "metadata": {
    "collapsed": false
   },
   "outputs": [],
   "source": [
    "df_train, df_test = load_Dataset()"
   ]
  },
  {
   "cell_type": "code",
   "execution_count": 210,
   "metadata": {
    "collapsed": false
   },
   "outputs": [
    {
     "data": {
      "text/plain": [
       "<matplotlib.axes._subplots.AxesSubplot at 0x157418128>"
      ]
     },
     "execution_count": 210,
     "metadata": {},
     "output_type": "execute_result"
    },
    {
     "data": {
      "image/png": "[encoded data removed]",
      "text/plain": [
       "<matplotlib.figure.Figure at 0x12f01dd68>"
      ]
     },
     "metadata": {},
     "output_type": "display_data"
    }
   ],
   "source": [
    "category_counts = df_train[\"Insult\"].value_counts(ascending=True)\n",
    "category_counts.plot(kind='barh')"
   ]
  },
  {
   "cell_type": "code",
   "execution_count": 211,
   "metadata": {
    "collapsed": false
   },
   "outputs": [],
   "source": [
    "best_clf.fit(df_train.Comment,df_train.Insult)\n",
    "predicted = best_clf.predict(df_test.Comment)\n"
   ]
  },
  {
   "cell_type": "code",
   "execution_count": 212,
   "metadata": {
    "collapsed": false
   },
   "outputs": [
    {
     "data": {
      "text/plain": [
       "0.83776932826362482"
      ]
     },
     "execution_count": 212,
     "metadata": {},
     "output_type": "execute_result"
    }
   ],
   "source": [
    "accuracy_score(df_test.Insult,predicted)"
   ]
  },
  {
   "cell_type": "markdown",
   "metadata": {},
   "source": [
    "### Classification report"
   ]
  },
  {
   "cell_type": "code",
   "execution_count": 213,
   "metadata": {
    "collapsed": false
   },
   "outputs": [
    {
     "name": "stdout",
     "output_type": "stream",
     "text": [
      "             precision    recall  f1-score   support\n",
      "\n",
      "          0       0.88      0.90      0.89       578\n",
      "          1       0.70      0.68      0.69       211\n",
      "\n",
      "avg / total       0.84      0.84      0.84       789\n",
      "\n"
     ]
    }
   ],
   "source": [
    "class_labels = np.sort(df_train.Insult.unique())\n",
    "lables = [str(i) for i in class_labels]\n",
    "print(classification_report(df_test.Insult, predicted, target_names=lables))"
   ]
  },
  {
   "cell_type": "markdown",
   "metadata": {},
   "source": [
    "Testing on random sentences"
   ]
  },
  {
   "cell_type": "code",
   "execution_count": 214,
   "metadata": {
    "collapsed": false
   },
   "outputs": [
    {
     "data": {
      "text/plain": [
       "array([[ 0.29705442,  0.70294558]])"
      ]
     },
     "execution_count": 214,
     "metadata": {},
     "output_type": "execute_result"
    }
   ],
   "source": [
    "best_clf.predict_proba([\"You are a nobody\"])"
   ]
  },
  {
   "cell_type": "code",
   "execution_count": 215,
   "metadata": {
    "collapsed": false
   },
   "outputs": [
    {
     "data": {
      "text/plain": [
       "array([[ 0.85754458,  0.14245542]])"
      ]
     },
     "execution_count": 215,
     "metadata": {},
     "output_type": "execute_result"
    }
   ],
   "source": [
    "best_clf.predict_proba([\"what the fuck is that\"])"
   ]
  },
  {
   "cell_type": "markdown",
   "metadata": {},
   "source": [
    "### Testing on validation set"
   ]
  },
  {
   "cell_type": "code",
   "execution_count": 216,
   "metadata": {
    "collapsed": true
   },
   "outputs": [],
   "source": [
    "df_train1, df_test1 = load_Dataset(\"test\")"
   ]
  },
  {
   "cell_type": "code",
   "execution_count": 217,
   "metadata": {
    "collapsed": false
   },
   "outputs": [],
   "source": [
    "predictions1 = best_clf.predict(df_test1.Comment)"
   ]
  },
  {
   "cell_type": "code",
   "execution_count": 218,
   "metadata": {
    "collapsed": false
   },
   "outputs": [
    {
     "data": {
      "text/plain": [
       "0.84699659992444276"
      ]
     },
     "execution_count": 218,
     "metadata": {},
     "output_type": "execute_result"
    }
   ],
   "source": [
    "accuracy_score(df_test1.Insult,predictions1)"
   ]
  },
  {
   "cell_type": "code",
   "execution_count": 219,
   "metadata": {
    "collapsed": false
   },
   "outputs": [
    {
     "name": "stdout",
     "output_type": "stream",
     "text": [
      "             precision    recall  f1-score   support\n",
      "\n",
      "          0       0.89      0.91      0.90      1954\n",
      "          1       0.72      0.68      0.70       693\n",
      "\n",
      "avg / total       0.84      0.85      0.85      2647\n",
      "\n"
     ]
    }
   ],
   "source": [
    "print(classification_report(df_test1.Insult, predictions1, target_names=lables))"
   ]
  },
  {
   "cell_type": "markdown",
   "metadata": {},
   "source": [
    "## Function to plot Confusion matrix"
   ]
  },
  {
   "cell_type": "markdown",
   "metadata": {},
   "source": [
    "This function plots the confusion matrix"
   ]
  },
  {
   "cell_type": "code",
   "execution_count": 95,
   "metadata": {
    "collapsed": false
   },
   "outputs": [],
   "source": [
    "import matplotlib.pyplot as plt\n",
    "def plot_confusion_matrix(cm, title, target_names, cmap=plt.cm.coolwarm):\n",
    "    plt.figure(figsize=(8,8))\n",
    "    plt.imshow(cm, interpolation='nearest', cmap=cmap)\n",
    "    plt.title(title)\n",
    "    plt.colorbar()\n",
    "    tick_marks = np.arange(len(target_names))\n",
    "    plt.xticks(tick_marks, target_names, rotation=45)\n",
    "    plt.yticks(tick_marks, target_names)\n",
    "    plt.tight_layout()\n",
    "    plt.ylabel('True label')\n",
    "    plt.xlabel('Predicted label')"
   ]
  },
  {
   "cell_type": "code",
   "execution_count": 97,
   "metadata": {
    "collapsed": false
   },
   "outputs": [
    {
     "data": {
      "image/png": "[encoded data removed]",
      "text/plain": [
       "<matplotlib.figure.Figure at 0x13381f0f0>"
      ]
     },
     "metadata": {},
     "output_type": "display_data"
    }
   ],
   "source": [
    "class_labels = np.sort(df_test1.Insult.unique())\n",
    "\n",
    "\n",
    "nb_cm = confusion_matrix(df_test1.Insult,predictions1)\n",
    "plot_confusion_matrix(nb_cm, \"SVM Confusion Matrix\", class_labels)"
   ]
  },
  {
   "cell_type": "markdown",
   "metadata": {},
   "source": [
    "### Make the model a pickle for GUI use"
   ]
  },
  {
   "cell_type": "code",
   "execution_count": 98,
   "metadata": {
    "collapsed": false
   },
   "outputs": [
    {
     "name": "stdout",
     "output_type": "stream",
     "text": [
      "[[ 0.01665566  0.98334434]]\n"
     ]
    },
    {
     "data": {
      "text/plain": [
       "array([[ 0.01665566,  0.98334434]])"
      ]
     },
     "execution_count": 98,
     "metadata": {},
     "output_type": "execute_result"
    }
   ],
   "source": [
    "import pickle\n",
    "\n",
    "#dup to pickle\n",
    "with open('model_demo1.pkl', 'wb') as f:\n",
    "    pickle.dump(best_clf, f)\n",
    "#Load the model from this pickle later\n",
    "best_clf = pickle.load(open('model_demo1.pkl','rb'))\n",
    "\n",
    "# returns confidence score ()\n",
    "def is_abuse(model,sentence):\n",
    "    confidence = model.predict_proba([sentence])\n",
    "    print(confidence)\n",
    "    return confidence\n",
    "\n",
    "\n",
    "sentence = \"you fuck!\"\n",
    "# calling the function\n",
    "is_abuse(best_clf,sentence)"
   ]
  },
  {
   "cell_type": "markdown",
   "metadata": {},
   "source": [
    "## Code used for hyperparameters, stratified K-fold and K-means"
   ]
  },
  {
   "cell_type": "markdown",
   "metadata": {},
   "source": [
    "## GRID SEARCH USING HYPERPARAMETERS"
   ]
  },
  {
   "cell_type": "code",
   "execution_count": 186,
   "metadata": {
    "collapsed": false
   },
   "outputs": [],
   "source": [
    "X_train, X_test = df_train.Comment, df_test.Comment\n",
    "y_train,y_test = df_train.Insult, df_test.Insult"
   ]
  },
  {
   "cell_type": "markdown",
   "metadata": {},
   "source": [
    "#### Grid Search to tune the hyper-parameters"
   ]
  },
  {
   "cell_type": "code",
   "execution_count": 187,
   "metadata": {
    "collapsed": false
   },
   "outputs": [
    {
     "name": "stdout",
     "output_type": "stream",
     "text": [
      "# Tuning hyper-parameters for precision\n",
      "\n",
      "Best parameters set found on development set:\n",
      "\n",
      "{'clf__C': 1, 'clf__kernel': 'linear'}\n",
      "\n",
      "Grid scores on development set:\n",
      "\n",
      "0.367 (+/-0.001) for {'clf__gamma': 0.001, 'clf__C': 1, 'clf__kernel': 'rbf'}\n",
      "0.367 (+/-0.001) for {'clf__gamma': 0.0001, 'clf__C': 1, 'clf__kernel': 'rbf'}\n",
      "0.367 (+/-0.001) for {'clf__gamma': 0.001, 'clf__C': 10, 'clf__kernel': 'rbf'}\n",
      "0.367 (+/-0.001) for {'clf__gamma': 0.0001, 'clf__C': 10, 'clf__kernel': 'rbf'}\n",
      "0.468 (+/-0.400) for {'clf__gamma': 0.001, 'clf__C': 100, 'clf__kernel': 'rbf'}\n",
      "0.367 (+/-0.001) for {'clf__gamma': 0.0001, 'clf__C': 100, 'clf__kernel': 'rbf'}\n",
      "0.776 (+/-0.044) for {'clf__gamma': 0.001, 'clf__C': 1000, 'clf__kernel': 'rbf'}\n",
      "0.468 (+/-0.400) for {'clf__gamma': 0.0001, 'clf__C': 1000, 'clf__kernel': 'rbf'}\n",
      "0.786 (+/-0.053) for {'clf__C': 1, 'clf__kernel': 'linear'}\n",
      "0.776 (+/-0.044) for {'clf__C': 10, 'clf__kernel': 'linear'}\n",
      "0.776 (+/-0.044) for {'clf__C': 100, 'clf__kernel': 'linear'}\n",
      "0.776 (+/-0.044) for {'clf__C': 1000, 'clf__kernel': 'linear'}\n",
      "\n",
      "Detailed classification report:\n",
      "\n",
      "The model is trained on the full development set.\n",
      "The scores are computed on the full evaluation set.\n",
      "\n",
      "             precision    recall  f1-score   support\n",
      "\n",
      "          0       0.88      0.88      0.88       578\n",
      "          1       0.68      0.68      0.68       211\n",
      "\n",
      "avg / total       0.83      0.83      0.83       789\n",
      "\n",
      "\n",
      "# Tuning hyper-parameters for recall\n",
      "\n",
      "Best parameters set found on development set:\n",
      "\n",
      "{'clf__C': 10, 'clf__kernel': 'linear'}\n",
      "\n",
      "Grid scores on development set:\n",
      "\n",
      "0.500 (+/-0.000) for {'clf__gamma': 0.001, 'clf__C': 1, 'clf__kernel': 'rbf'}\n",
      "0.500 (+/-0.000) for {'clf__gamma': 0.0001, 'clf__C': 1, 'clf__kernel': 'rbf'}\n",
      "0.500 (+/-0.000) for {'clf__gamma': 0.001, 'clf__C': 10, 'clf__kernel': 'rbf'}\n",
      "0.500 (+/-0.000) for {'clf__gamma': 0.0001, 'clf__C': 10, 'clf__kernel': 'rbf'}\n",
      "0.501 (+/-0.002) for {'clf__gamma': 0.001, 'clf__C': 100, 'clf__kernel': 'rbf'}\n",
      "0.500 (+/-0.000) for {'clf__gamma': 0.0001, 'clf__C': 100, 'clf__kernel': 'rbf'}\n",
      "0.781 (+/-0.046) for {'clf__gamma': 0.001, 'clf__C': 1000, 'clf__kernel': 'rbf'}\n",
      "0.501 (+/-0.002) for {'clf__gamma': 0.0001, 'clf__C': 1000, 'clf__kernel': 'rbf'}\n",
      "0.767 (+/-0.046) for {'clf__C': 1, 'clf__kernel': 'linear'}\n",
      "0.781 (+/-0.048) for {'clf__C': 10, 'clf__kernel': 'linear'}\n",
      "0.781 (+/-0.048) for {'clf__C': 100, 'clf__kernel': 'linear'}\n",
      "0.781 (+/-0.048) for {'clf__C': 1000, 'clf__kernel': 'linear'}\n",
      "\n",
      "Detailed classification report:\n",
      "\n",
      "The model is trained on the full development set.\n",
      "The scores are computed on the full evaluation set.\n",
      "\n",
      "             precision    recall  f1-score   support\n",
      "\n",
      "          0       0.91      0.85      0.88       578\n",
      "          1       0.65      0.76      0.70       211\n",
      "\n",
      "avg / total       0.84      0.83      0.83       789\n",
      "\n",
      "\n"
     ]
    }
   ],
   "source": [
    "import warnings\n",
    "warnings.filterwarnings('ignore')\n",
    "\n",
    "# Set the parameters by cross-validation\n",
    "best_clf_hyp = Pipeline([ ('vect', TfidfVectorizer(tokenizer=build_tokens,ngram_range=(1, 6),stop_words = stopwords)),\n",
    "                     ('clf', svm.SVC(decision_function_shape=\"ovo\",probability=True)), ])\n",
    "\n",
    "tuned_parameters = [{'clf__kernel': ['rbf'], 'clf__gamma': [1e-3, 1e-4],\n",
    "                     'clf__C': [1, 10, 100, 1000]},\n",
    "                    {'clf__kernel': ['linear'], 'clf__C': [1, 10, 100, 1000]}]\n",
    "\n",
    "scores = ['precision', 'recall']\n",
    "\n",
    "for score in scores:\n",
    "    print(\"# Tuning hyper-parameters for %s\" % score)\n",
    "    print()\n",
    "\n",
    "    clf = GridSearchCV(best_clf_hyp, tuned_parameters, cv=5,\n",
    "                       scoring='%s_macro' % score)\n",
    "    clf.fit(X_train, y_train)\n",
    "\n",
    "    print(\"Best parameters set found on development set:\")\n",
    "    print()\n",
    "    print(clf.best_params_)\n",
    "    print()\n",
    "    print(\"Grid scores on development set:\")\n",
    "    print()\n",
    "    means = clf.cv_results_['mean_test_score']\n",
    "    stds = clf.cv_results_['std_test_score']\n",
    "    for mean, std, params in zip(means, stds, clf.cv_results_['params']):\n",
    "        print(\"%0.3f (+/-%0.03f) for %r\"\n",
    "              % (mean, std * 2, params))\n",
    "    print()\n",
    "\n",
    "    print(\"Detailed classification report:\")\n",
    "    print()\n",
    "    print(\"The model is trained on the full development set.\")\n",
    "    print(\"The scores are computed on the full evaluation set.\")\n",
    "    print()\n",
    "    y_true, y_pred = y_test, clf.predict(X_test)\n",
    "    print(classification_report(y_true, y_pred))\n",
    "    print()"
   ]
  },
  {
   "cell_type": "markdown",
   "metadata": {},
   "source": [
    "## Stratified K fold cross validation - not useful"
   ]
  },
  {
   "cell_type": "code",
   "execution_count": 142,
   "metadata": {
    "collapsed": false
   },
   "outputs": [
    {
     "name": "stdout",
     "output_type": "stream",
     "text": [
      "Trained model on new train dataset.\n",
      "Accuracy on test dataset: \n",
      "0.86032388664\n",
      "Trained model on new train dataset.\n",
      "Accuracy on test dataset: \n",
      "0.838905775076\n",
      "Trained model on new train dataset.\n",
      "Accuracy on test dataset: \n",
      "0.844827586207\n",
      "Trained model on new train dataset.\n",
      "Accuracy on test dataset: \n",
      "0.837728194726\n"
     ]
    }
   ],
   "source": [
    "data_set = pd.read_csv(\"train.csv\")\n",
    "\n",
    "skf = StratifiedKFold(n_splits=4)\n",
    "accuracy = 0\n",
    "best_model = None\n",
    "prediction = None\n",
    "y = None\n",
    "for train_index, test_index in skf.split(data_set.Comment,data_set.Insult):\n",
    "    X_train, X_test = data_set.Comment[train_index], data_set.Comment[test_index]\n",
    "    y_train,y_test = data_set.Insult[train_index], data_set.Insult[test_index]\n",
    "    # Drop any resulting nan values\n",
    "    X_train.dropna(inplace=True)\n",
    "    y_train.dropna(inplace=True)\n",
    "    X_test.dropna(inplace=True)\n",
    "    y_test.dropna(inplace=True)\n",
    "    # Train model using created datasets\n",
    "    _ = best_clf.fit(X_train, y_train)\n",
    "    print('Trained model on new train dataset.')\n",
    "    # Predict on test\n",
    "    predicted = best_clf.predict(X_test)\n",
    "    print('Accuracy on test dataset: ')\n",
    "    test_accuracy = accuracy_score(y_test,predicted)\n",
    "    print(test_accuracy)\n",
    "    \n",
    "    # Save models and accuracy so that we can use it later\n",
    "    if (test_accuracy > accuracy):\n",
    "        accuracy = test_accuracy\n",
    "        best_model = best_clf\n",
    "        prediction = predicted\n",
    "        y = y_test"
   ]
  },
  {
   "cell_type": "code",
   "execution_count": 143,
   "metadata": {
    "collapsed": false
   },
   "outputs": [
    {
     "name": "stdout",
     "output_type": "stream",
     "text": [
      "             precision    recall  f1-score   support\n",
      "\n",
      "          0       0.90      0.91      0.91       725\n",
      "          1       0.75      0.71      0.73       263\n",
      "\n",
      "avg / total       0.86      0.86      0.86       988\n",
      "\n"
     ]
    }
   ],
   "source": [
    "print(classification_report(y, prediction, target_names=lables))"
   ]
  },
  {
   "cell_type": "code",
   "execution_count": 154,
   "metadata": {
    "collapsed": false
   },
   "outputs": [
    {
     "data": {
      "text/plain": [
       "0.84435209671326028"
      ]
     },
     "execution_count": 154,
     "metadata": {},
     "output_type": "execute_result"
    }
   ],
   "source": [
    "predictions1 = best_model.predict(df_test1.Comment)\n",
    "accuracy_score(df_test1.Insult,predictions1)"
   ]
  },
  {
   "cell_type": "markdown",
   "metadata": {},
   "source": [
    "Cross validation did not improve our scores as such on the test set as a whole."
   ]
  },
  {
   "cell_type": "markdown",
   "metadata": {},
   "source": [
    "## K-means clustering - did not work"
   ]
  },
  {
   "cell_type": "markdown",
   "metadata": {},
   "source": [
    "Ref: http://brandonrose.org/clustering"
   ]
  },
  {
   "cell_type": "markdown",
   "metadata": {},
   "source": [
    "K-means clustering by clustering our dataset into 2 clusters."
   ]
  },
  {
   "cell_type": "code",
   "execution_count": 151,
   "metadata": {
    "collapsed": false
   },
   "outputs": [
    {
     "name": "stdout",
     "output_type": "stream",
     "text": [
      "CPU times: user 5.71 s, sys: 134 ms, total: 5.84 s\n",
      "Wall time: 5.84 s\n",
      "(3947, 631621)\n"
     ]
    }
   ],
   "source": [
    "\n",
    "raw = data_set\n",
    "#define vectorizer parameters\n",
    "tfidf_vectorizer = TfidfVectorizer(sublinear_tf=True, ngram_range=(1,6), max_df= 0.5, analyzer= \"word\", stop_words = stopwords, tokenizer= build_tokens)\n",
    "%time tfidf_matrix = tfidf_vectorizer.fit_transform(raw.Comment) #fit the vectorizer to raw text\n",
    "\n",
    "print(tfidf_matrix.shape)"
   ]
  },
  {
   "cell_type": "markdown",
   "metadata": {},
   "source": [
    "Get all feature names"
   ]
  },
  {
   "cell_type": "code",
   "execution_count": 152,
   "metadata": {
    "collapsed": true
   },
   "outputs": [],
   "source": [
    "terms = tfidf_vectorizer.get_feature_names()"
   ]
  },
  {
   "cell_type": "markdown",
   "metadata": {},
   "source": [
    "Fit by kmeans clustering"
   ]
  },
  {
   "cell_type": "code",
   "execution_count": 153,
   "metadata": {
    "collapsed": false
   },
   "outputs": [
    {
     "name": "stdout",
     "output_type": "stream",
     "text": [
      "CPU times: user 3min 9s, sys: 4.18 s, total: 3min 13s\n",
      "Wall time: 1min 5s\n",
      "\n",
      "Number of Clusters: 2\n",
      "Top 1: you are \" you you are \" you are . \" idiot ! \" you're you're ! \" ! ! idiot \" idiot . , and idiot . \" your like ! ! \" ! ! ! ! ! ! \" stupid are idiot idiot ! of is to , you no not moron you're idiot \" no ? fucking and you are you are idiot , you are so ... really and you . you \" you're idiot right you're idiot \" \" you're idiot \" fucking idiot fool you are right are right just \" and \" and you are sound like \" fucking idiot idiot ! \" like you you . \" fuck you are . you . are . \" and you \" fuck you you are . \" sound your idiot \" your \" you are right for are . \" dumb you really you idiot on have moron . you are so are so . you are some retarded you really are \" fucking are fool because \" fuck are not fuck you really are because you complete that moron . \" because you are ignorant stupid \" right \" racist \" fucking idiot \" fucking idiot \" don't you are just you are not sir go you are moron are you idiot ! ! are moron \" fuck you . \" \" fuck you . \" your idiot stupid . stupid . \" fuck you . \" .. are just you idiot . you are fool \" you are fool in are idiot \" fuck you . man you are wrong one right ! \" are wrong \" sound like fool . ? you right ! ... \" \" sound what and your are stupid \" you don't funny that you are but \" you are so yes are complete wrong better are retarded \" like you are right \" you are right \" \" you are really you is \" you really pathetic - you are really that you such complete idiot you are \" you are right ! \" \" you are right ! \" you are right ! \" you are right ! are right ! are right ! \" welcome shit man you are man you n \" because you are you don't you are retarded people \" you is it are really you idiot . \" need \" because you you have ? you are \" you are idiot troll \" you sound \" you sound like are \" \" you sir , you really are be you are moron . \" are moron . \" know \" you are stupid you are stupid fool . \" \n",
      "Top 2: , you to . \" and ? i your of is ! it that ... in are n ? \" for on have like be not this they ! \" he with just all what fuck \" i so wa if up get but do don't will about me ! ! we or no my know u . n - one at who out go ... \" ' can would how his people ha are you you are from when think fucking why more because you're by their time him . i them now .. make it's , you right ) here shit there say back need , and then look ( off see should to be good her than ? ? she little really n n been want as . you were only i'm way , i , but did year some too bitch lol got / well ! ! ! guy other if you man still take over better come our thing stupid going life comment even ! ! \" post \" fuck any never you have where s obama had being gay \" and \" \" love \" you \" are those am \" are you it . very these like you doe suck white day yourself : can't \" what give team mean said again need to ever money want to could fan game i think oh dont i am it is old nothing before \n"
     ]
    }
   ],
   "source": [
    "from sklearn.cluster import KMeans\n",
    "\n",
    "#clusters = [5,10,15]\n",
    "clusters = [2]\n",
    "for num_clusters in clusters:\n",
    "\n",
    "    km = KMeans(n_clusters=num_clusters)\n",
    "    %time km.fit(tfidf_matrix)\n",
    "\n",
    "    kmeans_centroids = km.cluster_centers_.argsort()[:, ::-1]\n",
    "    print(\"\\nNumber of Clusters: %d\" % num_clusters)\n",
    "    for i in range(num_clusters):\n",
    "        topic = \"\"\n",
    "        for ind in kmeans_centroids[i, :200]:\n",
    "            topic += terms[ind] + \" \"\n",
    "        print(\"Top %d: %s\" % (i+1,topic))"
   ]
  },
  {
   "cell_type": "markdown",
   "metadata": {},
   "source": [
    "Calculate cosine similarity"
   ]
  },
  {
   "cell_type": "code",
   "execution_count": 147,
   "metadata": {
    "collapsed": true
   },
   "outputs": [],
   "source": [
    "from sklearn.metrics.pairwise import cosine_similarity\n",
    "dist = 1 - cosine_similarity(tfidf_matrix)"
   ]
  },
  {
   "cell_type": "markdown",
   "metadata": {},
   "source": [
    "#### Plot the clusters"
   ]
  },
  {
   "cell_type": "code",
   "execution_count": 183,
   "metadata": {
    "collapsed": false
   },
   "outputs": [],
   "source": [
    "import os  # for os.path.basename\n",
    "\n",
    "import matplotlib.pyplot as plt\n",
    "import matplotlib as mpl\n",
    "\n",
    "from sklearn.manifold import MDS\n",
    "\n",
    "MDS()\n",
    "\n",
    "# two components as we're plotting points in a two-dimensional plane\n",
    "# \"precomputed\" because we provide a distance matrix\n",
    "# we will also specify `random_state` so the plot is reproducible.\n",
    "mds = MDS(n_components=2, dissimilarity=\"precomputed\", random_state=1)\n",
    "\n",
    "pos = mds.fit_transform(dist)  # shape (n_components, n_samples)\n",
    "\n",
    "xs, ys = pos[:, 0], pos[:, 1]"
   ]
  },
  {
   "cell_type": "code",
   "execution_count": 184,
   "metadata": {
    "collapsed": true
   },
   "outputs": [],
   "source": [
    "clusters = km.labels_.tolist()\n",
    "\n",
    "#set up cluster names using a dict\n",
    "cluster_names = {0: 'Not-abusive', \n",
    "                 1: 'Abusive', }"
   ]
  },
  {
   "cell_type": "code",
   "execution_count": 220,
   "metadata": {
    "collapsed": false
   },
   "outputs": [
    {
     "data": {
      "image/png": "[encoded data removed]",
      "text/plain": [
       "<matplotlib.figure.Figure at 0x1402d2d68>"
      ]
     },
     "metadata": {},
     "output_type": "display_data"
    }
   ],
   "source": [
    "#create data frame that has the result of the MDS plus the cluster numbers and titles\n",
    "df = pd.DataFrame(dict(x=xs, y=ys, label=clusters)) \n",
    "\n",
    "#group by cluster\n",
    "groups = df.groupby('label')\n",
    "\n",
    "# set up plot\n",
    "fig, ax = plt.subplots(figsize=(17, 10)) # set size\n",
    "ax.margins(0.05) # Optional, just adds 5% padding to the autoscaling\n",
    "\n",
    "#iterate through groups to layer the plot\n",
    "#note that I use the cluster_name and cluster_color dicts with the 'name' lookup to return the appropriate color/label\n",
    "for name, group in groups:\n",
    "    ax.plot(group.x, group.y, marker='o', linestyle='',ms=12, label=cluster_names[name],mec='none')\n",
    "    ax.set_aspect('auto')\n",
    "    ax.tick_params(\\\n",
    "        axis= 'x',          # changes apply to the x-axis\n",
    "        which='both',      # both major and minor ticks are affected\n",
    "        bottom='off',      # ticks along the bottom edge are off\n",
    "        top='off',         # ticks along the top edge are off\n",
    "        labelbottom='off')\n",
    "    ax.tick_params(\\\n",
    "        axis= 'y',         # changes apply to the y-axis\n",
    "        which='both',      # both major and minor ticks are affected\n",
    "        left='off',      # ticks along the bottom edge are off\n",
    "        top='off',         # ticks along the top edge are off\n",
    "        labelleft='off')\n",
    "    \n",
    "ax.legend(numpoints=1)  #show legend with only 1 point\n",
    "\n",
    "    \n",
    "plt.show() #show the plot\n",
    "\n",
    "#uncomment the below to save the plot if need be\n",
    "#plt.savefig('clusters_small_noaxes.png', dpi=200)"
   ]
  },
  {
   "cell_type": "markdown",
   "metadata": {
    "collapsed": true
   },
   "source": [
    "There is no clear distinction between the 2 clusters and both the clusters contain insults indicating that the clustering was not successful."
   ]
  },
  {
   "cell_type": "code",
   "execution_count": null,
   "metadata": {
    "collapsed": true
   },
   "outputs": [],
   "source": []
  }
 ],
 "metadata": {
  "anaconda-cloud": {},
  "kernelspec": {
   "display_name": "Python [Root]",
   "language": "python",
   "name": "Python [Root]"
  },
  "language_info": {
   "codemirror_mode": {
    "name": "ipython",
    "version": 3
   },
   "file_extension": ".py",
   "mimetype": "text/x-python",
   "name": "python",
   "nbconvert_exporter": "python",
   "pygments_lexer": "ipython3",
   "version": "3.5.2"
  }
 },
 "nbformat": 4,
 "nbformat_minor": 0
}
